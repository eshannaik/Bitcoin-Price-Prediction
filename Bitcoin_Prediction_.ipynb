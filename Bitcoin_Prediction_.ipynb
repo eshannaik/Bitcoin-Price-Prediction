{
  "nbformat": 4,
  "nbformat_minor": 0,
  "metadata": {
    "colab": {
      "name": "Bitcoin - Prediction .ipynb",
      "provenance": [],
      "collapsed_sections": []
    },
    "kernelspec": {
      "name": "python3",
      "display_name": "Python 3"
    },
    "language_info": {
      "name": "python"
    }
  },
  "cells": [
    {
      "cell_type": "markdown",
      "metadata": {
        "id": "h5giePgJ0pKA"
      },
      "source": [
        "# Bitcoin Prediction "
      ]
    },
    {
      "cell_type": "markdown",
      "metadata": {
        "id": "8UIHStSs0uep"
      },
      "source": [
        "### Importing libraries and preprocessing"
      ]
    },
    {
      "cell_type": "code",
      "metadata": {
        "id": "D11bx2eVvMHL",
        "colab": {
          "base_uri": "https://localhost:8080/"
        },
        "outputId": "0059c96c-2917-4c59-ff61-4d80638a0a21"
      },
      "source": [
        "import pandas as pd\n",
        "import numpy as np\n",
        "import matplotlib.pyplot as plt\n",
        "from keras.models import Sequential\n",
        "from keras.layers import Dense\n",
        "from keras.layers import LSTM\n",
        "from keras.layers import Dropout\n",
        "from keras.layers import Activation\n",
        "from keras.models import load_model\n",
        "import tensorflow\n",
        "print(tensorflow.__version__)"
      ],
      "execution_count": 322,
      "outputs": [
        {
          "output_type": "stream",
          "text": [
            "2.4.1\n"
          ],
          "name": "stdout"
        }
      ]
    },
    {
      "cell_type": "code",
      "metadata": {
        "id": "ruHg5hfmwhp5"
      },
      "source": [
        "training = pd.read_csv(\"bitcoin_price_Training - Training.csv\",thousands=',')\n",
        "testing =  pd.read_csv(\"bitcoin_price_1week_Test - Test.csv\",thousands=',')"
      ],
      "execution_count": 323,
      "outputs": []
    },
    {
      "cell_type": "code",
      "metadata": {
        "colab": {
          "base_uri": "https://localhost:8080/",
          "height": 195
        },
        "id": "WTLHl40FXDkJ",
        "outputId": "87fb4d17-3c50-4688-a51d-5b1f976752bc"
      },
      "source": [
        "training.head()"
      ],
      "execution_count": 324,
      "outputs": [
        {
          "output_type": "execute_result",
          "data": {
            "text/html": [
              "<div>\n",
              "<style scoped>\n",
              "    .dataframe tbody tr th:only-of-type {\n",
              "        vertical-align: middle;\n",
              "    }\n",
              "\n",
              "    .dataframe tbody tr th {\n",
              "        vertical-align: top;\n",
              "    }\n",
              "\n",
              "    .dataframe thead th {\n",
              "        text-align: right;\n",
              "    }\n",
              "</style>\n",
              "<table border=\"1\" class=\"dataframe\">\n",
              "  <thead>\n",
              "    <tr style=\"text-align: right;\">\n",
              "      <th></th>\n",
              "      <th>Date</th>\n",
              "      <th>Open</th>\n",
              "      <th>High</th>\n",
              "      <th>Low</th>\n",
              "      <th>Close</th>\n",
              "      <th>Volume</th>\n",
              "      <th>Market Cap</th>\n",
              "    </tr>\n",
              "  </thead>\n",
              "  <tbody>\n",
              "    <tr>\n",
              "      <th>0</th>\n",
              "      <td>Jul 31, 2017</td>\n",
              "      <td>2763.24</td>\n",
              "      <td>2889.62</td>\n",
              "      <td>2720.61</td>\n",
              "      <td>2875.34</td>\n",
              "      <td>860,575,000</td>\n",
              "      <td>45535800000</td>\n",
              "    </tr>\n",
              "    <tr>\n",
              "      <th>1</th>\n",
              "      <td>Jul 30, 2017</td>\n",
              "      <td>2724.39</td>\n",
              "      <td>2758.53</td>\n",
              "      <td>2644.85</td>\n",
              "      <td>2757.18</td>\n",
              "      <td>705,943,000</td>\n",
              "      <td>44890700000</td>\n",
              "    </tr>\n",
              "    <tr>\n",
              "      <th>2</th>\n",
              "      <td>Jul 29, 2017</td>\n",
              "      <td>2807.02</td>\n",
              "      <td>2808.76</td>\n",
              "      <td>2692.80</td>\n",
              "      <td>2726.45</td>\n",
              "      <td>803,746,000</td>\n",
              "      <td>46246700000</td>\n",
              "    </tr>\n",
              "    <tr>\n",
              "      <th>3</th>\n",
              "      <td>Jul 28, 2017</td>\n",
              "      <td>2679.73</td>\n",
              "      <td>2897.45</td>\n",
              "      <td>2679.73</td>\n",
              "      <td>2809.01</td>\n",
              "      <td>1,380,100,000</td>\n",
              "      <td>44144400000</td>\n",
              "    </tr>\n",
              "    <tr>\n",
              "      <th>4</th>\n",
              "      <td>Jul 27, 2017</td>\n",
              "      <td>2538.71</td>\n",
              "      <td>2693.32</td>\n",
              "      <td>2529.34</td>\n",
              "      <td>2671.78</td>\n",
              "      <td>789,104,000</td>\n",
              "      <td>41816500000</td>\n",
              "    </tr>\n",
              "  </tbody>\n",
              "</table>\n",
              "</div>"
            ],
            "text/plain": [
              "           Date     Open     High      Low    Close         Volume   Market Cap\n",
              "0  Jul 31, 2017  2763.24  2889.62  2720.61  2875.34    860,575,000  45535800000\n",
              "1  Jul 30, 2017  2724.39  2758.53  2644.85  2757.18    705,943,000  44890700000\n",
              "2  Jul 29, 2017  2807.02  2808.76  2692.80  2726.45    803,746,000  46246700000\n",
              "3  Jul 28, 2017  2679.73  2897.45  2679.73  2809.01  1,380,100,000  44144400000\n",
              "4  Jul 27, 2017  2538.71  2693.32  2529.34  2671.78    789,104,000  41816500000"
            ]
          },
          "metadata": {
            "tags": []
          },
          "execution_count": 324
        }
      ]
    },
    {
      "cell_type": "code",
      "metadata": {
        "colab": {
          "base_uri": "https://localhost:8080/",
          "height": 195
        },
        "id": "rSO1cz6SXF3m",
        "outputId": "d6037009-e6f0-47a2-dbb5-82904d788b07"
      },
      "source": [
        "testing.head()"
      ],
      "execution_count": 325,
      "outputs": [
        {
          "output_type": "execute_result",
          "data": {
            "text/html": [
              "<div>\n",
              "<style scoped>\n",
              "    .dataframe tbody tr th:only-of-type {\n",
              "        vertical-align: middle;\n",
              "    }\n",
              "\n",
              "    .dataframe tbody tr th {\n",
              "        vertical-align: top;\n",
              "    }\n",
              "\n",
              "    .dataframe thead th {\n",
              "        text-align: right;\n",
              "    }\n",
              "</style>\n",
              "<table border=\"1\" class=\"dataframe\">\n",
              "  <thead>\n",
              "    <tr style=\"text-align: right;\">\n",
              "      <th></th>\n",
              "      <th>Date</th>\n",
              "      <th>Open</th>\n",
              "      <th>High</th>\n",
              "      <th>Low</th>\n",
              "      <th>Close</th>\n",
              "      <th>Volume</th>\n",
              "      <th>Market Cap</th>\n",
              "    </tr>\n",
              "  </thead>\n",
              "  <tbody>\n",
              "    <tr>\n",
              "      <th>0</th>\n",
              "      <td>Aug 07, 2017</td>\n",
              "      <td>3212.78</td>\n",
              "      <td>3397.68</td>\n",
              "      <td>3180.89</td>\n",
              "      <td>3378.94</td>\n",
              "      <td>1482280000</td>\n",
              "      <td>52987300000</td>\n",
              "    </tr>\n",
              "    <tr>\n",
              "      <th>1</th>\n",
              "      <td>Aug 06, 2017</td>\n",
              "      <td>3257.61</td>\n",
              "      <td>3293.29</td>\n",
              "      <td>3155.60</td>\n",
              "      <td>3213.94</td>\n",
              "      <td>1105030000</td>\n",
              "      <td>53720900000</td>\n",
              "    </tr>\n",
              "    <tr>\n",
              "      <th>2</th>\n",
              "      <td>Aug 05, 2017</td>\n",
              "      <td>2897.63</td>\n",
              "      <td>3290.01</td>\n",
              "      <td>2874.83</td>\n",
              "      <td>3252.91</td>\n",
              "      <td>1945700000</td>\n",
              "      <td>47778200000</td>\n",
              "    </tr>\n",
              "    <tr>\n",
              "      <th>3</th>\n",
              "      <td>Aug 04, 2017</td>\n",
              "      <td>2806.93</td>\n",
              "      <td>2899.33</td>\n",
              "      <td>2743.72</td>\n",
              "      <td>2895.89</td>\n",
              "      <td>1002120000</td>\n",
              "      <td>46276200000</td>\n",
              "    </tr>\n",
              "    <tr>\n",
              "      <th>4</th>\n",
              "      <td>Aug 03, 2017</td>\n",
              "      <td>2709.56</td>\n",
              "      <td>2813.31</td>\n",
              "      <td>2685.14</td>\n",
              "      <td>2804.73</td>\n",
              "      <td>804797000</td>\n",
              "      <td>44666400000</td>\n",
              "    </tr>\n",
              "  </tbody>\n",
              "</table>\n",
              "</div>"
            ],
            "text/plain": [
              "           Date     Open     High      Low    Close      Volume   Market Cap\n",
              "0  Aug 07, 2017  3212.78  3397.68  3180.89  3378.94  1482280000  52987300000\n",
              "1  Aug 06, 2017  3257.61  3293.29  3155.60  3213.94  1105030000  53720900000\n",
              "2  Aug 05, 2017  2897.63  3290.01  2874.83  3252.91  1945700000  47778200000\n",
              "3  Aug 04, 2017  2806.93  2899.33  2743.72  2895.89  1002120000  46276200000\n",
              "4  Aug 03, 2017  2709.56  2813.31  2685.14  2804.73   804797000  44666400000"
            ]
          },
          "metadata": {
            "tags": []
          },
          "execution_count": 325
        }
      ]
    },
    {
      "cell_type": "code",
      "metadata": {
        "id": "q3hFvXS7NpKE"
      },
      "source": [
        "del training['Date']"
      ],
      "execution_count": 326,
      "outputs": []
    },
    {
      "cell_type": "code",
      "metadata": {
        "colab": {
          "base_uri": "https://localhost:8080/",
          "height": 195
        },
        "id": "BiK-8jcBN8ZM",
        "outputId": "d4c96b50-4a9a-4da4-d0b2-f9d634360b11"
      },
      "source": [
        "training.head()"
      ],
      "execution_count": 327,
      "outputs": [
        {
          "output_type": "execute_result",
          "data": {
            "text/html": [
              "<div>\n",
              "<style scoped>\n",
              "    .dataframe tbody tr th:only-of-type {\n",
              "        vertical-align: middle;\n",
              "    }\n",
              "\n",
              "    .dataframe tbody tr th {\n",
              "        vertical-align: top;\n",
              "    }\n",
              "\n",
              "    .dataframe thead th {\n",
              "        text-align: right;\n",
              "    }\n",
              "</style>\n",
              "<table border=\"1\" class=\"dataframe\">\n",
              "  <thead>\n",
              "    <tr style=\"text-align: right;\">\n",
              "      <th></th>\n",
              "      <th>Open</th>\n",
              "      <th>High</th>\n",
              "      <th>Low</th>\n",
              "      <th>Close</th>\n",
              "      <th>Volume</th>\n",
              "      <th>Market Cap</th>\n",
              "    </tr>\n",
              "  </thead>\n",
              "  <tbody>\n",
              "    <tr>\n",
              "      <th>0</th>\n",
              "      <td>2763.24</td>\n",
              "      <td>2889.62</td>\n",
              "      <td>2720.61</td>\n",
              "      <td>2875.34</td>\n",
              "      <td>860,575,000</td>\n",
              "      <td>45535800000</td>\n",
              "    </tr>\n",
              "    <tr>\n",
              "      <th>1</th>\n",
              "      <td>2724.39</td>\n",
              "      <td>2758.53</td>\n",
              "      <td>2644.85</td>\n",
              "      <td>2757.18</td>\n",
              "      <td>705,943,000</td>\n",
              "      <td>44890700000</td>\n",
              "    </tr>\n",
              "    <tr>\n",
              "      <th>2</th>\n",
              "      <td>2807.02</td>\n",
              "      <td>2808.76</td>\n",
              "      <td>2692.80</td>\n",
              "      <td>2726.45</td>\n",
              "      <td>803,746,000</td>\n",
              "      <td>46246700000</td>\n",
              "    </tr>\n",
              "    <tr>\n",
              "      <th>3</th>\n",
              "      <td>2679.73</td>\n",
              "      <td>2897.45</td>\n",
              "      <td>2679.73</td>\n",
              "      <td>2809.01</td>\n",
              "      <td>1,380,100,000</td>\n",
              "      <td>44144400000</td>\n",
              "    </tr>\n",
              "    <tr>\n",
              "      <th>4</th>\n",
              "      <td>2538.71</td>\n",
              "      <td>2693.32</td>\n",
              "      <td>2529.34</td>\n",
              "      <td>2671.78</td>\n",
              "      <td>789,104,000</td>\n",
              "      <td>41816500000</td>\n",
              "    </tr>\n",
              "  </tbody>\n",
              "</table>\n",
              "</div>"
            ],
            "text/plain": [
              "      Open     High      Low    Close         Volume   Market Cap\n",
              "0  2763.24  2889.62  2720.61  2875.34    860,575,000  45535800000\n",
              "1  2724.39  2758.53  2644.85  2757.18    705,943,000  44890700000\n",
              "2  2807.02  2808.76  2692.80  2726.45    803,746,000  46246700000\n",
              "3  2679.73  2897.45  2679.73  2809.01  1,380,100,000  44144400000\n",
              "4  2538.71  2693.32  2529.34  2671.78    789,104,000  41816500000"
            ]
          },
          "metadata": {
            "tags": []
          },
          "execution_count": 327
        }
      ]
    },
    {
      "cell_type": "code",
      "metadata": {
        "id": "YsWr8YBGN-34"
      },
      "source": [
        "del testing['Date']"
      ],
      "execution_count": 328,
      "outputs": []
    },
    {
      "cell_type": "code",
      "metadata": {
        "colab": {
          "base_uri": "https://localhost:8080/",
          "height": 195
        },
        "id": "bKQu2SuBOAxH",
        "outputId": "30e38ae4-652b-484a-f0fd-0413ee5ea319"
      },
      "source": [
        "testing.head()"
      ],
      "execution_count": 329,
      "outputs": [
        {
          "output_type": "execute_result",
          "data": {
            "text/html": [
              "<div>\n",
              "<style scoped>\n",
              "    .dataframe tbody tr th:only-of-type {\n",
              "        vertical-align: middle;\n",
              "    }\n",
              "\n",
              "    .dataframe tbody tr th {\n",
              "        vertical-align: top;\n",
              "    }\n",
              "\n",
              "    .dataframe thead th {\n",
              "        text-align: right;\n",
              "    }\n",
              "</style>\n",
              "<table border=\"1\" class=\"dataframe\">\n",
              "  <thead>\n",
              "    <tr style=\"text-align: right;\">\n",
              "      <th></th>\n",
              "      <th>Open</th>\n",
              "      <th>High</th>\n",
              "      <th>Low</th>\n",
              "      <th>Close</th>\n",
              "      <th>Volume</th>\n",
              "      <th>Market Cap</th>\n",
              "    </tr>\n",
              "  </thead>\n",
              "  <tbody>\n",
              "    <tr>\n",
              "      <th>0</th>\n",
              "      <td>3212.78</td>\n",
              "      <td>3397.68</td>\n",
              "      <td>3180.89</td>\n",
              "      <td>3378.94</td>\n",
              "      <td>1482280000</td>\n",
              "      <td>52987300000</td>\n",
              "    </tr>\n",
              "    <tr>\n",
              "      <th>1</th>\n",
              "      <td>3257.61</td>\n",
              "      <td>3293.29</td>\n",
              "      <td>3155.60</td>\n",
              "      <td>3213.94</td>\n",
              "      <td>1105030000</td>\n",
              "      <td>53720900000</td>\n",
              "    </tr>\n",
              "    <tr>\n",
              "      <th>2</th>\n",
              "      <td>2897.63</td>\n",
              "      <td>3290.01</td>\n",
              "      <td>2874.83</td>\n",
              "      <td>3252.91</td>\n",
              "      <td>1945700000</td>\n",
              "      <td>47778200000</td>\n",
              "    </tr>\n",
              "    <tr>\n",
              "      <th>3</th>\n",
              "      <td>2806.93</td>\n",
              "      <td>2899.33</td>\n",
              "      <td>2743.72</td>\n",
              "      <td>2895.89</td>\n",
              "      <td>1002120000</td>\n",
              "      <td>46276200000</td>\n",
              "    </tr>\n",
              "    <tr>\n",
              "      <th>4</th>\n",
              "      <td>2709.56</td>\n",
              "      <td>2813.31</td>\n",
              "      <td>2685.14</td>\n",
              "      <td>2804.73</td>\n",
              "      <td>804797000</td>\n",
              "      <td>44666400000</td>\n",
              "    </tr>\n",
              "  </tbody>\n",
              "</table>\n",
              "</div>"
            ],
            "text/plain": [
              "      Open     High      Low    Close      Volume   Market Cap\n",
              "0  3212.78  3397.68  3180.89  3378.94  1482280000  52987300000\n",
              "1  3257.61  3293.29  3155.60  3213.94  1105030000  53720900000\n",
              "2  2897.63  3290.01  2874.83  3252.91  1945700000  47778200000\n",
              "3  2806.93  2899.33  2743.72  2895.89  1002120000  46276200000\n",
              "4  2709.56  2813.31  2685.14  2804.73   804797000  44666400000"
            ]
          },
          "metadata": {
            "tags": []
          },
          "execution_count": 329
        }
      ]
    },
    {
      "cell_type": "code",
      "metadata": {
        "id": "p8WSrC_fQtaA"
      },
      "source": [
        "train = training[::-1]\n",
        "test = testing[::-1]"
      ],
      "execution_count": 330,
      "outputs": []
    },
    {
      "cell_type": "code",
      "metadata": {
        "colab": {
          "base_uri": "https://localhost:8080/",
          "height": 195
        },
        "id": "iInbQ0EYwpFD",
        "outputId": "9ca2f91e-b1b3-42e4-9b18-7705bc7917a0"
      },
      "source": [
        "train.head()"
      ],
      "execution_count": 331,
      "outputs": [
        {
          "output_type": "execute_result",
          "data": {
            "text/html": [
              "<div>\n",
              "<style scoped>\n",
              "    .dataframe tbody tr th:only-of-type {\n",
              "        vertical-align: middle;\n",
              "    }\n",
              "\n",
              "    .dataframe tbody tr th {\n",
              "        vertical-align: top;\n",
              "    }\n",
              "\n",
              "    .dataframe thead th {\n",
              "        text-align: right;\n",
              "    }\n",
              "</style>\n",
              "<table border=\"1\" class=\"dataframe\">\n",
              "  <thead>\n",
              "    <tr style=\"text-align: right;\">\n",
              "      <th></th>\n",
              "      <th>Open</th>\n",
              "      <th>High</th>\n",
              "      <th>Low</th>\n",
              "      <th>Close</th>\n",
              "      <th>Volume</th>\n",
              "      <th>Market Cap</th>\n",
              "    </tr>\n",
              "  </thead>\n",
              "  <tbody>\n",
              "    <tr>\n",
              "      <th>1555</th>\n",
              "      <td>135.30</td>\n",
              "      <td>135.98</td>\n",
              "      <td>132.10</td>\n",
              "      <td>134.21</td>\n",
              "      <td>-</td>\n",
              "      <td>1500520000</td>\n",
              "    </tr>\n",
              "    <tr>\n",
              "      <th>1554</th>\n",
              "      <td>134.44</td>\n",
              "      <td>147.49</td>\n",
              "      <td>134.00</td>\n",
              "      <td>144.54</td>\n",
              "      <td>-</td>\n",
              "      <td>1491160000</td>\n",
              "    </tr>\n",
              "    <tr>\n",
              "      <th>1553</th>\n",
              "      <td>144.00</td>\n",
              "      <td>146.93</td>\n",
              "      <td>134.05</td>\n",
              "      <td>139.00</td>\n",
              "      <td>-</td>\n",
              "      <td>1597780000</td>\n",
              "    </tr>\n",
              "    <tr>\n",
              "      <th>1552</th>\n",
              "      <td>139.00</td>\n",
              "      <td>139.89</td>\n",
              "      <td>107.72</td>\n",
              "      <td>116.99</td>\n",
              "      <td>-</td>\n",
              "      <td>1542820000</td>\n",
              "    </tr>\n",
              "    <tr>\n",
              "      <th>1551</th>\n",
              "      <td>116.38</td>\n",
              "      <td>125.60</td>\n",
              "      <td>92.28</td>\n",
              "      <td>105.21</td>\n",
              "      <td>-</td>\n",
              "      <td>1292190000</td>\n",
              "    </tr>\n",
              "  </tbody>\n",
              "</table>\n",
              "</div>"
            ],
            "text/plain": [
              "        Open    High     Low   Close Volume  Market Cap\n",
              "1555  135.30  135.98  132.10  134.21      -  1500520000\n",
              "1554  134.44  147.49  134.00  144.54      -  1491160000\n",
              "1553  144.00  146.93  134.05  139.00      -  1597780000\n",
              "1552  139.00  139.89  107.72  116.99      -  1542820000\n",
              "1551  116.38  125.60   92.28  105.21      -  1292190000"
            ]
          },
          "metadata": {
            "tags": []
          },
          "execution_count": 331
        }
      ]
    },
    {
      "cell_type": "code",
      "metadata": {
        "colab": {
          "base_uri": "https://localhost:8080/",
          "height": 195
        },
        "id": "o4cuLX-rNAaE",
        "outputId": "ffcc91c5-1ed2-4436-bdfb-785842c45f62"
      },
      "source": [
        "test.head()"
      ],
      "execution_count": 332,
      "outputs": [
        {
          "output_type": "execute_result",
          "data": {
            "text/html": [
              "<div>\n",
              "<style scoped>\n",
              "    .dataframe tbody tr th:only-of-type {\n",
              "        vertical-align: middle;\n",
              "    }\n",
              "\n",
              "    .dataframe tbody tr th {\n",
              "        vertical-align: top;\n",
              "    }\n",
              "\n",
              "    .dataframe thead th {\n",
              "        text-align: right;\n",
              "    }\n",
              "</style>\n",
              "<table border=\"1\" class=\"dataframe\">\n",
              "  <thead>\n",
              "    <tr style=\"text-align: right;\">\n",
              "      <th></th>\n",
              "      <th>Open</th>\n",
              "      <th>High</th>\n",
              "      <th>Low</th>\n",
              "      <th>Close</th>\n",
              "      <th>Volume</th>\n",
              "      <th>Market Cap</th>\n",
              "    </tr>\n",
              "  </thead>\n",
              "  <tbody>\n",
              "    <tr>\n",
              "      <th>6</th>\n",
              "      <td>2871.30</td>\n",
              "      <td>2921.35</td>\n",
              "      <td>2685.61</td>\n",
              "      <td>2718.26</td>\n",
              "      <td>1324670000</td>\n",
              "      <td>47321800000</td>\n",
              "    </tr>\n",
              "    <tr>\n",
              "      <th>5</th>\n",
              "      <td>2727.13</td>\n",
              "      <td>2762.53</td>\n",
              "      <td>2668.59</td>\n",
              "      <td>2710.67</td>\n",
              "      <td>1094950000</td>\n",
              "      <td>44950800000</td>\n",
              "    </tr>\n",
              "    <tr>\n",
              "      <th>4</th>\n",
              "      <td>2709.56</td>\n",
              "      <td>2813.31</td>\n",
              "      <td>2685.14</td>\n",
              "      <td>2804.73</td>\n",
              "      <td>804797000</td>\n",
              "      <td>44666400000</td>\n",
              "    </tr>\n",
              "    <tr>\n",
              "      <th>3</th>\n",
              "      <td>2806.93</td>\n",
              "      <td>2899.33</td>\n",
              "      <td>2743.72</td>\n",
              "      <td>2895.89</td>\n",
              "      <td>1002120000</td>\n",
              "      <td>46276200000</td>\n",
              "    </tr>\n",
              "    <tr>\n",
              "      <th>2</th>\n",
              "      <td>2897.63</td>\n",
              "      <td>3290.01</td>\n",
              "      <td>2874.83</td>\n",
              "      <td>3252.91</td>\n",
              "      <td>1945700000</td>\n",
              "      <td>47778200000</td>\n",
              "    </tr>\n",
              "  </tbody>\n",
              "</table>\n",
              "</div>"
            ],
            "text/plain": [
              "      Open     High      Low    Close      Volume   Market Cap\n",
              "6  2871.30  2921.35  2685.61  2718.26  1324670000  47321800000\n",
              "5  2727.13  2762.53  2668.59  2710.67  1094950000  44950800000\n",
              "4  2709.56  2813.31  2685.14  2804.73   804797000  44666400000\n",
              "3  2806.93  2899.33  2743.72  2895.89  1002120000  46276200000\n",
              "2  2897.63  3290.01  2874.83  3252.91  1945700000  47778200000"
            ]
          },
          "metadata": {
            "tags": []
          },
          "execution_count": 332
        }
      ]
    },
    {
      "cell_type": "code",
      "metadata": {
        "colab": {
          "base_uri": "https://localhost:8080/"
        },
        "id": "SDLWFeGCwp-U",
        "outputId": "b526d2a2-8a7e-489e-c212-2e021795a38f"
      },
      "source": [
        "training.isnull().sum()"
      ],
      "execution_count": 333,
      "outputs": [
        {
          "output_type": "execute_result",
          "data": {
            "text/plain": [
              "Open          0\n",
              "High          0\n",
              "Low           0\n",
              "Close         0\n",
              "Volume        0\n",
              "Market Cap    0\n",
              "dtype: int64"
            ]
          },
          "metadata": {
            "tags": []
          },
          "execution_count": 333
        }
      ]
    },
    {
      "cell_type": "code",
      "metadata": {
        "colab": {
          "base_uri": "https://localhost:8080/"
        },
        "id": "ZLSxngzrNIlJ",
        "outputId": "bf23f3a3-fa83-445b-c25f-2980de8e3660"
      },
      "source": [
        "testing.isnull().sum()"
      ],
      "execution_count": 334,
      "outputs": [
        {
          "output_type": "execute_result",
          "data": {
            "text/plain": [
              "Open          0\n",
              "High          0\n",
              "Low           0\n",
              "Close         0\n",
              "Volume        0\n",
              "Market Cap    0\n",
              "dtype: int64"
            ]
          },
          "metadata": {
            "tags": []
          },
          "execution_count": 334
        }
      ]
    },
    {
      "cell_type": "code",
      "metadata": {
        "colab": {
          "base_uri": "https://localhost:8080/"
        },
        "id": "61dz-4bexjhR",
        "outputId": "da5b85d6-0850-4843-8dec-d8100a6e6a24"
      },
      "source": [
        "training.shape"
      ],
      "execution_count": 335,
      "outputs": [
        {
          "output_type": "execute_result",
          "data": {
            "text/plain": [
              "(1556, 6)"
            ]
          },
          "metadata": {
            "tags": []
          },
          "execution_count": 335
        }
      ]
    },
    {
      "cell_type": "code",
      "metadata": {
        "colab": {
          "base_uri": "https://localhost:8080/"
        },
        "id": "uaDkzYwuNLc0",
        "outputId": "3e04b9fe-fd65-43c4-fd18-a3ae3404de1a"
      },
      "source": [
        "testing.shape"
      ],
      "execution_count": 336,
      "outputs": [
        {
          "output_type": "execute_result",
          "data": {
            "text/plain": [
              "(7, 6)"
            ]
          },
          "metadata": {
            "tags": []
          },
          "execution_count": 336
        }
      ]
    },
    {
      "cell_type": "code",
      "metadata": {
        "colab": {
          "base_uri": "https://localhost:8080/"
        },
        "id": "S9FNTq2_NY0P",
        "outputId": "744ec1b3-99af-458f-f237-652bd4f3c19a"
      },
      "source": [
        "training.info()"
      ],
      "execution_count": 337,
      "outputs": [
        {
          "output_type": "stream",
          "text": [
            "<class 'pandas.core.frame.DataFrame'>\n",
            "RangeIndex: 1556 entries, 0 to 1555\n",
            "Data columns (total 6 columns):\n",
            " #   Column      Non-Null Count  Dtype  \n",
            "---  ------      --------------  -----  \n",
            " 0   Open        1556 non-null   float64\n",
            " 1   High        1556 non-null   float64\n",
            " 2   Low         1556 non-null   float64\n",
            " 3   Close       1556 non-null   float64\n",
            " 4   Volume      1556 non-null   object \n",
            " 5   Market Cap  1556 non-null   int64  \n",
            "dtypes: float64(4), int64(1), object(1)\n",
            "memory usage: 73.1+ KB\n"
          ],
          "name": "stdout"
        }
      ]
    },
    {
      "cell_type": "code",
      "metadata": {
        "colab": {
          "base_uri": "https://localhost:8080/"
        },
        "id": "pKZ7VaSdNb3_",
        "outputId": "f86f8b27-b3ef-4a99-8b6c-a7ba14936025"
      },
      "source": [
        "testing.info()"
      ],
      "execution_count": 338,
      "outputs": [
        {
          "output_type": "stream",
          "text": [
            "<class 'pandas.core.frame.DataFrame'>\n",
            "RangeIndex: 7 entries, 0 to 6\n",
            "Data columns (total 6 columns):\n",
            " #   Column      Non-Null Count  Dtype  \n",
            "---  ------      --------------  -----  \n",
            " 0   Open        7 non-null      float64\n",
            " 1   High        7 non-null      float64\n",
            " 2   Low         7 non-null      float64\n",
            " 3   Close       7 non-null      float64\n",
            " 4   Volume      7 non-null      int64  \n",
            " 5   Market Cap  7 non-null      int64  \n",
            "dtypes: float64(4), int64(2)\n",
            "memory usage: 464.0 bytes\n"
          ],
          "name": "stdout"
        }
      ]
    },
    {
      "cell_type": "code",
      "metadata": {
        "colab": {
          "base_uri": "https://localhost:8080/",
          "height": 284
        },
        "id": "ChTpOmZCxpZr",
        "outputId": "db7ff711-e156-4191-adc5-d5c0b5915a86"
      },
      "source": [
        "training.describe()"
      ],
      "execution_count": 339,
      "outputs": [
        {
          "output_type": "execute_result",
          "data": {
            "text/html": [
              "<div>\n",
              "<style scoped>\n",
              "    .dataframe tbody tr th:only-of-type {\n",
              "        vertical-align: middle;\n",
              "    }\n",
              "\n",
              "    .dataframe tbody tr th {\n",
              "        vertical-align: top;\n",
              "    }\n",
              "\n",
              "    .dataframe thead th {\n",
              "        text-align: right;\n",
              "    }\n",
              "</style>\n",
              "<table border=\"1\" class=\"dataframe\">\n",
              "  <thead>\n",
              "    <tr style=\"text-align: right;\">\n",
              "      <th></th>\n",
              "      <th>Open</th>\n",
              "      <th>High</th>\n",
              "      <th>Low</th>\n",
              "      <th>Close</th>\n",
              "      <th>Market Cap</th>\n",
              "    </tr>\n",
              "  </thead>\n",
              "  <tbody>\n",
              "    <tr>\n",
              "      <th>count</th>\n",
              "      <td>1556.000000</td>\n",
              "      <td>1556.000000</td>\n",
              "      <td>1556.000000</td>\n",
              "      <td>1556.000000</td>\n",
              "      <td>1.556000e+03</td>\n",
              "    </tr>\n",
              "    <tr>\n",
              "      <th>mean</th>\n",
              "      <td>582.625328</td>\n",
              "      <td>597.992847</td>\n",
              "      <td>567.851446</td>\n",
              "      <td>584.239396</td>\n",
              "      <td>8.694353e+09</td>\n",
              "    </tr>\n",
              "    <tr>\n",
              "      <th>std</th>\n",
              "      <td>523.137312</td>\n",
              "      <td>542.992855</td>\n",
              "      <td>505.877401</td>\n",
              "      <td>525.904442</td>\n",
              "      <td>8.707288e+09</td>\n",
              "    </tr>\n",
              "    <tr>\n",
              "      <th>min</th>\n",
              "      <td>68.500000</td>\n",
              "      <td>74.560000</td>\n",
              "      <td>65.530000</td>\n",
              "      <td>68.430000</td>\n",
              "      <td>7.792550e+08</td>\n",
              "    </tr>\n",
              "    <tr>\n",
              "      <th>25%</th>\n",
              "      <td>254.287500</td>\n",
              "      <td>260.327500</td>\n",
              "      <td>248.835000</td>\n",
              "      <td>254.320000</td>\n",
              "      <td>3.598355e+09</td>\n",
              "    </tr>\n",
              "    <tr>\n",
              "      <th>50%</th>\n",
              "      <td>438.600000</td>\n",
              "      <td>447.560000</td>\n",
              "      <td>430.570000</td>\n",
              "      <td>438.855000</td>\n",
              "      <td>6.386210e+09</td>\n",
              "    </tr>\n",
              "    <tr>\n",
              "      <th>75%</th>\n",
              "      <td>662.437500</td>\n",
              "      <td>674.525000</td>\n",
              "      <td>646.735000</td>\n",
              "      <td>663.402500</td>\n",
              "      <td>9.898830e+09</td>\n",
              "    </tr>\n",
              "    <tr>\n",
              "      <th>max</th>\n",
              "      <td>2953.220000</td>\n",
              "      <td>2999.910000</td>\n",
              "      <td>2840.530000</td>\n",
              "      <td>2958.110000</td>\n",
              "      <td>4.839120e+10</td>\n",
              "    </tr>\n",
              "  </tbody>\n",
              "</table>\n",
              "</div>"
            ],
            "text/plain": [
              "              Open         High          Low        Close    Market Cap\n",
              "count  1556.000000  1556.000000  1556.000000  1556.000000  1.556000e+03\n",
              "mean    582.625328   597.992847   567.851446   584.239396  8.694353e+09\n",
              "std     523.137312   542.992855   505.877401   525.904442  8.707288e+09\n",
              "min      68.500000    74.560000    65.530000    68.430000  7.792550e+08\n",
              "25%     254.287500   260.327500   248.835000   254.320000  3.598355e+09\n",
              "50%     438.600000   447.560000   430.570000   438.855000  6.386210e+09\n",
              "75%     662.437500   674.525000   646.735000   663.402500  9.898830e+09\n",
              "max    2953.220000  2999.910000  2840.530000  2958.110000  4.839120e+10"
            ]
          },
          "metadata": {
            "tags": []
          },
          "execution_count": 339
        }
      ]
    },
    {
      "cell_type": "code",
      "metadata": {
        "colab": {
          "base_uri": "https://localhost:8080/",
          "height": 284
        },
        "id": "mBWxfUbYNgyr",
        "outputId": "222332f6-1043-4685-a815-5294d2e1aa18"
      },
      "source": [
        "testing.describe()"
      ],
      "execution_count": 340,
      "outputs": [
        {
          "output_type": "execute_result",
          "data": {
            "text/html": [
              "<div>\n",
              "<style scoped>\n",
              "    .dataframe tbody tr th:only-of-type {\n",
              "        vertical-align: middle;\n",
              "    }\n",
              "\n",
              "    .dataframe tbody tr th {\n",
              "        vertical-align: top;\n",
              "    }\n",
              "\n",
              "    .dataframe thead th {\n",
              "        text-align: right;\n",
              "    }\n",
              "</style>\n",
              "<table border=\"1\" class=\"dataframe\">\n",
              "  <thead>\n",
              "    <tr style=\"text-align: right;\">\n",
              "      <th></th>\n",
              "      <th>Open</th>\n",
              "      <th>High</th>\n",
              "      <th>Low</th>\n",
              "      <th>Close</th>\n",
              "      <th>Volume</th>\n",
              "      <th>Market Cap</th>\n",
              "    </tr>\n",
              "  </thead>\n",
              "  <tbody>\n",
              "    <tr>\n",
              "      <th>count</th>\n",
              "      <td>7.000000</td>\n",
              "      <td>7.000000</td>\n",
              "      <td>7.000000</td>\n",
              "      <td>7.000000</td>\n",
              "      <td>7.000000e+00</td>\n",
              "      <td>7.000000e+00</td>\n",
              "    </tr>\n",
              "    <tr>\n",
              "      <th>mean</th>\n",
              "      <td>2926.134286</td>\n",
              "      <td>3053.928571</td>\n",
              "      <td>2856.340000</td>\n",
              "      <td>2996.477143</td>\n",
              "      <td>1.251364e+09</td>\n",
              "      <td>4.824309e+10</td>\n",
              "    </tr>\n",
              "    <tr>\n",
              "      <th>std</th>\n",
              "      <td>222.327835</td>\n",
              "      <td>263.148120</td>\n",
              "      <td>224.210701</td>\n",
              "      <td>278.478301</td>\n",
              "      <td>3.759925e+08</td>\n",
              "      <td>3.676034e+09</td>\n",
              "    </tr>\n",
              "    <tr>\n",
              "      <th>min</th>\n",
              "      <td>2709.560000</td>\n",
              "      <td>2762.530000</td>\n",
              "      <td>2668.590000</td>\n",
              "      <td>2710.670000</td>\n",
              "      <td>8.047970e+08</td>\n",
              "      <td>4.466640e+10</td>\n",
              "    </tr>\n",
              "    <tr>\n",
              "      <th>25%</th>\n",
              "      <td>2767.030000</td>\n",
              "      <td>2856.320000</td>\n",
              "      <td>2685.375000</td>\n",
              "      <td>2761.495000</td>\n",
              "      <td>1.048535e+09</td>\n",
              "      <td>4.561350e+10</td>\n",
              "    </tr>\n",
              "    <tr>\n",
              "      <th>50%</th>\n",
              "      <td>2871.300000</td>\n",
              "      <td>2921.350000</td>\n",
              "      <td>2743.720000</td>\n",
              "      <td>2895.890000</td>\n",
              "      <td>1.105030e+09</td>\n",
              "      <td>4.732180e+10</td>\n",
              "    </tr>\n",
              "    <tr>\n",
              "      <th>75%</th>\n",
              "      <td>3055.205000</td>\n",
              "      <td>3291.650000</td>\n",
              "      <td>3015.215000</td>\n",
              "      <td>3233.425000</td>\n",
              "      <td>1.403475e+09</td>\n",
              "      <td>5.038275e+10</td>\n",
              "    </tr>\n",
              "    <tr>\n",
              "      <th>max</th>\n",
              "      <td>3257.610000</td>\n",
              "      <td>3397.680000</td>\n",
              "      <td>3180.890000</td>\n",
              "      <td>3378.940000</td>\n",
              "      <td>1.945700e+09</td>\n",
              "      <td>5.372090e+10</td>\n",
              "    </tr>\n",
              "  </tbody>\n",
              "</table>\n",
              "</div>"
            ],
            "text/plain": [
              "              Open         High  ...        Volume    Market Cap\n",
              "count     7.000000     7.000000  ...  7.000000e+00  7.000000e+00\n",
              "mean   2926.134286  3053.928571  ...  1.251364e+09  4.824309e+10\n",
              "std     222.327835   263.148120  ...  3.759925e+08  3.676034e+09\n",
              "min    2709.560000  2762.530000  ...  8.047970e+08  4.466640e+10\n",
              "25%    2767.030000  2856.320000  ...  1.048535e+09  4.561350e+10\n",
              "50%    2871.300000  2921.350000  ...  1.105030e+09  4.732180e+10\n",
              "75%    3055.205000  3291.650000  ...  1.403475e+09  5.038275e+10\n",
              "max    3257.610000  3397.680000  ...  1.945700e+09  5.372090e+10\n",
              "\n",
              "[8 rows x 6 columns]"
            ]
          },
          "metadata": {
            "tags": []
          },
          "execution_count": 340
        }
      ]
    },
    {
      "cell_type": "code",
      "metadata": {
        "id": "VDcatYekRz3q"
      },
      "source": [
        "train = train['Close'].values.astype('float32')\n",
        "test = test['Close'].values.astype('float32')"
      ],
      "execution_count": 341,
      "outputs": []
    },
    {
      "cell_type": "markdown",
      "metadata": {
        "id": "hxnx4WkZ0kAY"
      },
      "source": [
        "### Scaling the data"
      ]
    },
    {
      "cell_type": "code",
      "metadata": {
        "id": "l9eKmct-VNEy"
      },
      "source": [
        "from sklearn.preprocessing import MinMaxScaler\n",
        "values = training['Market Cap'].values.reshape(-1,1)\n",
        "values = values.astype('float32')\n",
        "scaler = MinMaxScaler(feature_range=(0, 1))\n",
        "scaled = scaler.fit_transform(values)"
      ],
      "execution_count": 342,
      "outputs": []
    },
    {
      "cell_type": "markdown",
      "metadata": {
        "id": "mQv-AID00gGM"
      },
      "source": [
        "### Spliting data into training and test set"
      ]
    },
    {
      "cell_type": "code",
      "metadata": {
        "colab": {
          "base_uri": "https://localhost:8080/"
        },
        "id": "su1Qpm_OVI4z",
        "outputId": "ecc976b9-6e6e-4429-e811-6916a15c6ea6"
      },
      "source": [
        "train_size = int(len(scaled) * 0.8)\n",
        "test_size = len(scaled) - train_size\n",
        "train, test = scaled[0:train_size,:], scaled[train_size:len(scaled),:]\n",
        "print(len(train), len(test))"
      ],
      "execution_count": 343,
      "outputs": [
        {
          "output_type": "stream",
          "text": [
            "1244 312\n"
          ],
          "name": "stdout"
        }
      ]
    },
    {
      "cell_type": "markdown",
      "metadata": {
        "id": "MW6fQErKZeO8"
      },
      "source": [
        "### Creating Dataset"
      ]
    },
    {
      "cell_type": "code",
      "metadata": {
        "id": "JdEf7hV1VtUI"
      },
      "source": [
        "def create_dataset(dataset, look_back=1):\n",
        "    dataX, dataY = [], []\n",
        "    for i in range(len(dataset) - look_back):\n",
        "        a = dataset[i:(i + look_back), 0]\n",
        "        dataX.append(a)\n",
        "        dataY.append(dataset[i + look_back, 0])\n",
        "    return np.array(dataX), np.array(dataY)"
      ],
      "execution_count": 344,
      "outputs": []
    },
    {
      "cell_type": "code",
      "metadata": {
        "id": "-JMbPt-EXrbJ"
      },
      "source": [
        "look_back = 1\n",
        "trainX, trainY = create_dataset(train, look_back)\n",
        "testX, testY = create_dataset(test, look_back)"
      ],
      "execution_count": 345,
      "outputs": []
    },
    {
      "cell_type": "markdown",
      "metadata": {
        "id": "WZQaOURtZktJ"
      },
      "source": [
        "### Reshaping the dataset"
      ]
    },
    {
      "cell_type": "code",
      "metadata": {
        "id": "lgBMJwrMYLtG"
      },
      "source": [
        "trainX = np.reshape(trainX, (trainX.shape[0], 1, trainX.shape[1]))\n",
        "testX = np.reshape(testX, (testX.shape[0], 1, testX.shape[1]))"
      ],
      "execution_count": 346,
      "outputs": []
    },
    {
      "cell_type": "markdown",
      "metadata": {
        "id": "kJlSO_v2Zn9w"
      },
      "source": [
        "### LSTM"
      ]
    },
    {
      "cell_type": "code",
      "metadata": {
        "colab": {
          "base_uri": "https://localhost:8080/"
        },
        "id": "TsyQDOAH1B05",
        "outputId": "e29545bc-816d-4ace-e899-798ff8142783"
      },
      "source": [
        "epochs = 100\n",
        "model=Sequential()\n",
        "model.add(LSTM(units=50,return_sequences=True,input_shape=(trainX.shape[1], trainX.shape[2])))\n",
        "model.add(Dropout(0.3))\n",
        "model.add(LSTM(units=5,return_sequences=True))\n",
        "model.add(Dropout(0.3))\n",
        "model.add(LSTM(units=50,return_sequences=True))\n",
        "model.add(Dropout(0.3))\n",
        "model.add(LSTM(units=50))\n",
        "model.add(Dropout(0.3))\n",
        "model.add(Dense(units=9))\n",
        "model.compile(optimizer='adam',loss='mse',metrics= ['accuracy'])\n",
        "history=model.fit(trainX,trainY, batch_size = 32, epochs = epochs,validation_data=(testX, testY))\n",
        "model.summary"
      ],
      "execution_count": 347,
      "outputs": [
        {
          "output_type": "stream",
          "text": [
            "Epoch 1/100\n",
            "39/39 [==============================] - 8s 53ms/step - loss: 0.0662 - accuracy: 0.0000e+00 - val_loss: 0.0084 - val_accuracy: 0.0000e+00\n",
            "Epoch 2/100\n",
            "39/39 [==============================] - 0s 8ms/step - loss: 0.0375 - accuracy: 0.0011 - val_loss: 0.0190 - val_accuracy: 0.0000e+00\n",
            "Epoch 3/100\n",
            "39/39 [==============================] - 0s 8ms/step - loss: 0.0373 - accuracy: 0.0000e+00 - val_loss: 0.0167 - val_accuracy: 0.0000e+00\n",
            "Epoch 4/100\n",
            "39/39 [==============================] - 0s 8ms/step - loss: 0.0284 - accuracy: 0.0000e+00 - val_loss: 0.0111 - val_accuracy: 0.0032\n",
            "Epoch 5/100\n",
            "39/39 [==============================] - 0s 8ms/step - loss: 0.0128 - accuracy: 0.0000e+00 - val_loss: 0.0030 - val_accuracy: 0.0032\n",
            "Epoch 6/100\n",
            "39/39 [==============================] - 0s 8ms/step - loss: 0.0085 - accuracy: 0.0000e+00 - val_loss: 0.0026 - val_accuracy: 0.0032\n",
            "Epoch 7/100\n",
            "39/39 [==============================] - 0s 8ms/step - loss: 0.0048 - accuracy: 0.0000e+00 - val_loss: 0.0018 - val_accuracy: 0.0032\n",
            "Epoch 8/100\n",
            "39/39 [==============================] - 0s 9ms/step - loss: 0.0060 - accuracy: 0.0022 - val_loss: 0.0021 - val_accuracy: 0.0032\n",
            "Epoch 9/100\n",
            "39/39 [==============================] - 0s 8ms/step - loss: 0.0050 - accuracy: 0.0000e+00 - val_loss: 0.0023 - val_accuracy: 0.0032\n",
            "Epoch 10/100\n",
            "39/39 [==============================] - 0s 9ms/step - loss: 0.0070 - accuracy: 0.0000e+00 - val_loss: 0.0015 - val_accuracy: 0.0032\n",
            "Epoch 11/100\n",
            "39/39 [==============================] - 0s 11ms/step - loss: 0.0045 - accuracy: 0.0000e+00 - val_loss: 0.0018 - val_accuracy: 0.0000e+00\n",
            "Epoch 12/100\n",
            "39/39 [==============================] - 0s 10ms/step - loss: 0.0066 - accuracy: 0.0000e+00 - val_loss: 0.0010 - val_accuracy: 0.0000e+00\n",
            "Epoch 13/100\n",
            "39/39 [==============================] - 0s 9ms/step - loss: 0.0058 - accuracy: 0.0000e+00 - val_loss: 5.8056e-04 - val_accuracy: 0.0000e+00\n",
            "Epoch 14/100\n",
            "39/39 [==============================] - 0s 8ms/step - loss: 0.0042 - accuracy: 0.0000e+00 - val_loss: 8.6363e-04 - val_accuracy: 0.0000e+00\n",
            "Epoch 15/100\n",
            "39/39 [==============================] - 0s 8ms/step - loss: 0.0042 - accuracy: 0.0000e+00 - val_loss: 4.4389e-04 - val_accuracy: 0.0032\n",
            "Epoch 16/100\n",
            "39/39 [==============================] - 0s 10ms/step - loss: 0.0044 - accuracy: 0.0000e+00 - val_loss: 6.2323e-04 - val_accuracy: 0.0032\n",
            "Epoch 17/100\n",
            "39/39 [==============================] - 0s 11ms/step - loss: 0.0037 - accuracy: 0.0000e+00 - val_loss: 3.5447e-04 - val_accuracy: 0.0000e+00\n",
            "Epoch 18/100\n",
            "39/39 [==============================] - 0s 11ms/step - loss: 0.0038 - accuracy: 0.0000e+00 - val_loss: 5.8179e-04 - val_accuracy: 0.0000e+00\n",
            "Epoch 19/100\n",
            "39/39 [==============================] - 0s 8ms/step - loss: 0.0036 - accuracy: 7.0208e-04 - val_loss: 4.2339e-04 - val_accuracy: 0.0000e+00\n",
            "Epoch 20/100\n",
            "39/39 [==============================] - 0s 8ms/step - loss: 0.0036 - accuracy: 0.0000e+00 - val_loss: 4.6762e-04 - val_accuracy: 0.0000e+00\n",
            "Epoch 21/100\n",
            "39/39 [==============================] - 0s 9ms/step - loss: 0.0034 - accuracy: 0.0000e+00 - val_loss: 1.7042e-04 - val_accuracy: 0.0000e+00\n",
            "Epoch 22/100\n",
            "39/39 [==============================] - 0s 8ms/step - loss: 0.0037 - accuracy: 3.9331e-04 - val_loss: 3.0431e-04 - val_accuracy: 0.0000e+00\n",
            "Epoch 23/100\n",
            "39/39 [==============================] - 0s 8ms/step - loss: 0.0039 - accuracy: 0.0000e+00 - val_loss: 2.2190e-04 - val_accuracy: 0.0000e+00\n",
            "Epoch 24/100\n",
            "39/39 [==============================] - 0s 8ms/step - loss: 0.0027 - accuracy: 0.0000e+00 - val_loss: 3.2859e-04 - val_accuracy: 0.0032\n",
            "Epoch 25/100\n",
            "39/39 [==============================] - 0s 8ms/step - loss: 0.0029 - accuracy: 0.0000e+00 - val_loss: 2.7652e-04 - val_accuracy: 0.0000e+00\n",
            "Epoch 26/100\n",
            "39/39 [==============================] - 0s 8ms/step - loss: 0.0031 - accuracy: 0.0000e+00 - val_loss: 2.9273e-04 - val_accuracy: 0.0032\n",
            "Epoch 27/100\n",
            "39/39 [==============================] - 0s 7ms/step - loss: 0.0038 - accuracy: 0.0000e+00 - val_loss: 2.1176e-04 - val_accuracy: 0.0032\n",
            "Epoch 28/100\n",
            "39/39 [==============================] - 0s 9ms/step - loss: 0.0032 - accuracy: 0.0000e+00 - val_loss: 4.5305e-04 - val_accuracy: 0.0000e+00\n",
            "Epoch 29/100\n",
            "39/39 [==============================] - 0s 9ms/step - loss: 0.0026 - accuracy: 0.0000e+00 - val_loss: 2.6729e-04 - val_accuracy: 0.0000e+00\n",
            "Epoch 30/100\n",
            "39/39 [==============================] - 0s 8ms/step - loss: 0.0030 - accuracy: 0.0000e+00 - val_loss: 3.1153e-04 - val_accuracy: 0.0000e+00\n",
            "Epoch 31/100\n",
            "39/39 [==============================] - 0s 9ms/step - loss: 0.0023 - accuracy: 0.0000e+00 - val_loss: 4.7184e-04 - val_accuracy: 0.0000e+00\n",
            "Epoch 32/100\n",
            "39/39 [==============================] - 0s 8ms/step - loss: 0.0025 - accuracy: 0.0000e+00 - val_loss: 6.8175e-04 - val_accuracy: 0.0000e+00\n",
            "Epoch 33/100\n",
            "39/39 [==============================] - 0s 8ms/step - loss: 0.0025 - accuracy: 0.0000e+00 - val_loss: 4.2839e-04 - val_accuracy: 0.0000e+00\n",
            "Epoch 34/100\n",
            "39/39 [==============================] - 0s 9ms/step - loss: 0.0028 - accuracy: 0.0000e+00 - val_loss: 3.6093e-04 - val_accuracy: 0.0000e+00\n",
            "Epoch 35/100\n",
            "39/39 [==============================] - 0s 8ms/step - loss: 0.0029 - accuracy: 0.0000e+00 - val_loss: 5.6609e-04 - val_accuracy: 0.0000e+00\n",
            "Epoch 36/100\n",
            "39/39 [==============================] - 0s 8ms/step - loss: 0.0030 - accuracy: 0.0000e+00 - val_loss: 4.9834e-04 - val_accuracy: 0.0000e+00\n",
            "Epoch 37/100\n",
            "39/39 [==============================] - 0s 9ms/step - loss: 0.0031 - accuracy: 0.0000e+00 - val_loss: 5.7010e-04 - val_accuracy: 0.0000e+00\n",
            "Epoch 38/100\n",
            "39/39 [==============================] - 0s 8ms/step - loss: 0.0025 - accuracy: 0.0000e+00 - val_loss: 3.0767e-04 - val_accuracy: 0.0000e+00\n",
            "Epoch 39/100\n",
            "39/39 [==============================] - 0s 8ms/step - loss: 0.0026 - accuracy: 0.0000e+00 - val_loss: 5.9873e-04 - val_accuracy: 0.0000e+00\n",
            "Epoch 40/100\n",
            "39/39 [==============================] - 0s 8ms/step - loss: 0.0037 - accuracy: 0.0000e+00 - val_loss: 3.8316e-04 - val_accuracy: 0.0000e+00\n",
            "Epoch 41/100\n",
            "39/39 [==============================] - 0s 8ms/step - loss: 0.0025 - accuracy: 0.0000e+00 - val_loss: 8.6605e-04 - val_accuracy: 0.0000e+00\n",
            "Epoch 42/100\n",
            "39/39 [==============================] - 0s 8ms/step - loss: 0.0024 - accuracy: 0.0000e+00 - val_loss: 3.1608e-04 - val_accuracy: 0.0000e+00\n",
            "Epoch 43/100\n",
            "39/39 [==============================] - 0s 8ms/step - loss: 0.0029 - accuracy: 0.0000e+00 - val_loss: 4.2668e-04 - val_accuracy: 0.0000e+00\n",
            "Epoch 44/100\n",
            "39/39 [==============================] - 0s 8ms/step - loss: 0.0029 - accuracy: 0.0000e+00 - val_loss: 5.8993e-04 - val_accuracy: 0.0000e+00\n",
            "Epoch 45/100\n",
            "39/39 [==============================] - 0s 9ms/step - loss: 0.0022 - accuracy: 7.5091e-04 - val_loss: 4.5052e-04 - val_accuracy: 0.0000e+00\n",
            "Epoch 46/100\n",
            "39/39 [==============================] - 0s 8ms/step - loss: 0.0021 - accuracy: 0.0000e+00 - val_loss: 7.5126e-04 - val_accuracy: 0.0000e+00\n",
            "Epoch 47/100\n",
            "39/39 [==============================] - 0s 8ms/step - loss: 0.0024 - accuracy: 0.0000e+00 - val_loss: 5.8598e-04 - val_accuracy: 0.0000e+00\n",
            "Epoch 48/100\n",
            "39/39 [==============================] - 0s 8ms/step - loss: 0.0018 - accuracy: 0.0000e+00 - val_loss: 8.3605e-04 - val_accuracy: 0.0000e+00\n",
            "Epoch 49/100\n",
            "39/39 [==============================] - 0s 8ms/step - loss: 0.0020 - accuracy: 0.0000e+00 - val_loss: 6.4569e-04 - val_accuracy: 0.0000e+00\n",
            "Epoch 50/100\n",
            "39/39 [==============================] - 0s 9ms/step - loss: 0.0028 - accuracy: 0.0000e+00 - val_loss: 7.7944e-04 - val_accuracy: 0.0000e+00\n",
            "Epoch 51/100\n",
            "39/39 [==============================] - 0s 8ms/step - loss: 0.0025 - accuracy: 0.0000e+00 - val_loss: 8.4602e-04 - val_accuracy: 0.0000e+00\n",
            "Epoch 52/100\n",
            "39/39 [==============================] - 0s 9ms/step - loss: 0.0021 - accuracy: 0.0000e+00 - val_loss: 9.5646e-04 - val_accuracy: 0.0000e+00\n",
            "Epoch 53/100\n",
            "39/39 [==============================] - 0s 8ms/step - loss: 0.0026 - accuracy: 0.0000e+00 - val_loss: 5.5239e-04 - val_accuracy: 0.0000e+00\n",
            "Epoch 54/100\n",
            "39/39 [==============================] - 0s 8ms/step - loss: 0.0022 - accuracy: 0.0000e+00 - val_loss: 0.0010 - val_accuracy: 0.0000e+00\n",
            "Epoch 55/100\n",
            "39/39 [==============================] - 0s 8ms/step - loss: 0.0028 - accuracy: 6.5612e-04 - val_loss: 0.0011 - val_accuracy: 0.0000e+00\n",
            "Epoch 56/100\n",
            "39/39 [==============================] - 0s 9ms/step - loss: 0.0028 - accuracy: 0.0000e+00 - val_loss: 0.0012 - val_accuracy: 0.0000e+00\n",
            "Epoch 57/100\n",
            "39/39 [==============================] - 0s 9ms/step - loss: 0.0023 - accuracy: 0.0000e+00 - val_loss: 7.1886e-04 - val_accuracy: 0.0000e+00\n",
            "Epoch 58/100\n",
            "39/39 [==============================] - 0s 9ms/step - loss: 0.0022 - accuracy: 0.0000e+00 - val_loss: 8.0697e-04 - val_accuracy: 0.0000e+00\n",
            "Epoch 59/100\n",
            "39/39 [==============================] - 0s 10ms/step - loss: 0.0027 - accuracy: 0.0019 - val_loss: 6.3383e-04 - val_accuracy: 0.0000e+00\n",
            "Epoch 60/100\n",
            "39/39 [==============================] - 0s 12ms/step - loss: 0.0021 - accuracy: 1.0360e-04 - val_loss: 8.7284e-04 - val_accuracy: 0.0000e+00\n",
            "Epoch 61/100\n",
            "39/39 [==============================] - 0s 11ms/step - loss: 0.0023 - accuracy: 0.0000e+00 - val_loss: 0.0010 - val_accuracy: 0.0000e+00\n",
            "Epoch 62/100\n",
            "39/39 [==============================] - 0s 11ms/step - loss: 0.0018 - accuracy: 0.0000e+00 - val_loss: 8.7847e-04 - val_accuracy: 0.0000e+00\n",
            "Epoch 63/100\n",
            "39/39 [==============================] - 0s 12ms/step - loss: 0.0023 - accuracy: 0.0000e+00 - val_loss: 0.0011 - val_accuracy: 0.0000e+00\n",
            "Epoch 64/100\n",
            "39/39 [==============================] - 0s 11ms/step - loss: 0.0022 - accuracy: 0.0000e+00 - val_loss: 9.2789e-04 - val_accuracy: 0.0000e+00\n",
            "Epoch 65/100\n",
            "39/39 [==============================] - 0s 11ms/step - loss: 0.0031 - accuracy: 0.0000e+00 - val_loss: 0.0012 - val_accuracy: 0.0000e+00\n",
            "Epoch 66/100\n",
            "39/39 [==============================] - 0s 9ms/step - loss: 0.0021 - accuracy: 0.0000e+00 - val_loss: 9.0696e-04 - val_accuracy: 0.0000e+00\n",
            "Epoch 67/100\n",
            "39/39 [==============================] - 0s 10ms/step - loss: 0.0024 - accuracy: 0.0000e+00 - val_loss: 0.0010 - val_accuracy: 0.0000e+00\n",
            "Epoch 68/100\n",
            "39/39 [==============================] - 0s 9ms/step - loss: 0.0029 - accuracy: 4.5983e-04 - val_loss: 0.0011 - val_accuracy: 0.0000e+00\n",
            "Epoch 69/100\n",
            "39/39 [==============================] - 0s 11ms/step - loss: 0.0022 - accuracy: 0.0000e+00 - val_loss: 0.0010 - val_accuracy: 0.0000e+00\n",
            "Epoch 70/100\n",
            "39/39 [==============================] - 0s 12ms/step - loss: 0.0021 - accuracy: 0.0000e+00 - val_loss: 6.3844e-04 - val_accuracy: 0.0000e+00\n",
            "Epoch 71/100\n",
            "39/39 [==============================] - 0s 11ms/step - loss: 0.0022 - accuracy: 0.0000e+00 - val_loss: 6.9399e-04 - val_accuracy: 0.0000e+00\n",
            "Epoch 72/100\n",
            "39/39 [==============================] - 0s 11ms/step - loss: 0.0020 - accuracy: 0.0000e+00 - val_loss: 7.8927e-04 - val_accuracy: 0.0000e+00\n",
            "Epoch 73/100\n",
            "39/39 [==============================] - 0s 11ms/step - loss: 0.0019 - accuracy: 0.0000e+00 - val_loss: 7.4107e-04 - val_accuracy: 0.0000e+00\n",
            "Epoch 74/100\n",
            "39/39 [==============================] - 0s 9ms/step - loss: 0.0018 - accuracy: 0.0000e+00 - val_loss: 7.9286e-04 - val_accuracy: 0.0000e+00\n",
            "Epoch 75/100\n",
            "39/39 [==============================] - 0s 10ms/step - loss: 0.0023 - accuracy: 0.0000e+00 - val_loss: 7.2230e-04 - val_accuracy: 0.0000e+00\n",
            "Epoch 76/100\n",
            "39/39 [==============================] - 0s 11ms/step - loss: 0.0021 - accuracy: 0.0000e+00 - val_loss: 8.1649e-04 - val_accuracy: 0.0000e+00\n",
            "Epoch 77/100\n",
            "39/39 [==============================] - 0s 11ms/step - loss: 0.0025 - accuracy: 0.0000e+00 - val_loss: 9.0480e-04 - val_accuracy: 0.0000e+00\n",
            "Epoch 78/100\n",
            "39/39 [==============================] - 0s 10ms/step - loss: 0.0030 - accuracy: 0.0000e+00 - val_loss: 0.0014 - val_accuracy: 0.0000e+00\n",
            "Epoch 79/100\n",
            "39/39 [==============================] - 0s 11ms/step - loss: 0.0024 - accuracy: 0.0000e+00 - val_loss: 7.7541e-04 - val_accuracy: 0.0000e+00\n",
            "Epoch 80/100\n",
            "39/39 [==============================] - 0s 11ms/step - loss: 0.0021 - accuracy: 0.0000e+00 - val_loss: 0.0012 - val_accuracy: 0.0000e+00\n",
            "Epoch 81/100\n",
            "39/39 [==============================] - 0s 9ms/step - loss: 0.0030 - accuracy: 0.0000e+00 - val_loss: 9.8454e-04 - val_accuracy: 0.0000e+00\n",
            "Epoch 82/100\n",
            "39/39 [==============================] - 0s 8ms/step - loss: 0.0024 - accuracy: 0.0000e+00 - val_loss: 0.0011 - val_accuracy: 0.0000e+00\n",
            "Epoch 83/100\n",
            "39/39 [==============================] - 0s 9ms/step - loss: 0.0024 - accuracy: 7.0208e-04 - val_loss: 0.0012 - val_accuracy: 0.0000e+00\n",
            "Epoch 84/100\n",
            "39/39 [==============================] - 0s 8ms/step - loss: 0.0021 - accuracy: 0.0000e+00 - val_loss: 7.9335e-04 - val_accuracy: 0.0000e+00\n",
            "Epoch 85/100\n",
            "39/39 [==============================] - 0s 8ms/step - loss: 0.0025 - accuracy: 0.0011 - val_loss: 9.8282e-04 - val_accuracy: 0.0032\n",
            "Epoch 86/100\n",
            "39/39 [==============================] - 0s 9ms/step - loss: 0.0025 - accuracy: 0.0000e+00 - val_loss: 0.0011 - val_accuracy: 0.0000e+00\n",
            "Epoch 87/100\n",
            "39/39 [==============================] - 0s 8ms/step - loss: 0.0024 - accuracy: 0.0000e+00 - val_loss: 0.0010 - val_accuracy: 0.0032\n",
            "Epoch 88/100\n",
            "39/39 [==============================] - 0s 9ms/step - loss: 0.0026 - accuracy: 0.0000e+00 - val_loss: 0.0013 - val_accuracy: 0.0000e+00\n",
            "Epoch 89/100\n",
            "39/39 [==============================] - 0s 8ms/step - loss: 0.0031 - accuracy: 0.0000e+00 - val_loss: 9.2884e-04 - val_accuracy: 0.0000e+00\n",
            "Epoch 90/100\n",
            "39/39 [==============================] - 0s 8ms/step - loss: 0.0019 - accuracy: 0.0000e+00 - val_loss: 9.3008e-04 - val_accuracy: 0.0000e+00\n",
            "Epoch 91/100\n",
            "39/39 [==============================] - 0s 8ms/step - loss: 0.0017 - accuracy: 3.9331e-04 - val_loss: 0.0012 - val_accuracy: 0.0000e+00\n",
            "Epoch 92/100\n",
            "39/39 [==============================] - 0s 9ms/step - loss: 0.0023 - accuracy: 0.0000e+00 - val_loss: 8.6527e-04 - val_accuracy: 0.0000e+00\n",
            "Epoch 93/100\n",
            "39/39 [==============================] - 0s 8ms/step - loss: 0.0020 - accuracy: 0.0000e+00 - val_loss: 0.0010 - val_accuracy: 0.0000e+00\n",
            "Epoch 94/100\n",
            "39/39 [==============================] - 0s 8ms/step - loss: 0.0027 - accuracy: 0.0000e+00 - val_loss: 0.0010 - val_accuracy: 0.0000e+00\n",
            "Epoch 95/100\n",
            "39/39 [==============================] - 0s 8ms/step - loss: 0.0021 - accuracy: 0.0000e+00 - val_loss: 9.4908e-04 - val_accuracy: 0.0000e+00\n",
            "Epoch 96/100\n",
            "39/39 [==============================] - 0s 8ms/step - loss: 0.0024 - accuracy: 0.0000e+00 - val_loss: 8.7976e-04 - val_accuracy: 0.0000e+00\n",
            "Epoch 97/100\n",
            "39/39 [==============================] - 0s 9ms/step - loss: 0.0023 - accuracy: 0.0000e+00 - val_loss: 0.0011 - val_accuracy: 0.0000e+00\n",
            "Epoch 98/100\n",
            "39/39 [==============================] - 0s 8ms/step - loss: 0.0018 - accuracy: 0.0000e+00 - val_loss: 0.0012 - val_accuracy: 0.0000e+00\n",
            "Epoch 99/100\n",
            "39/39 [==============================] - 0s 8ms/step - loss: 0.0023 - accuracy: 0.0000e+00 - val_loss: 0.0010 - val_accuracy: 0.0000e+00\n",
            "Epoch 100/100\n",
            "39/39 [==============================] - 0s 8ms/step - loss: 0.0020 - accuracy: 0.0000e+00 - val_loss: 8.5135e-04 - val_accuracy: 0.0000e+00\n"
          ],
          "name": "stdout"
        },
        {
          "output_type": "execute_result",
          "data": {
            "text/plain": [
              "<bound method Model.summary of <tensorflow.python.keras.engine.sequential.Sequential object at 0x7f0448ddf090>>"
            ]
          },
          "metadata": {
            "tags": []
          },
          "execution_count": 347
        }
      ]
    },
    {
      "cell_type": "markdown",
      "metadata": {
        "id": "XIiaKYl8cgZE"
      },
      "source": [
        "### Visualization"
      ]
    },
    {
      "cell_type": "code",
      "metadata": {
        "id": "-QMnHrFpv0ia",
        "colab": {
          "base_uri": "https://localhost:8080/",
          "height": 265
        },
        "outputId": "5f024ed0-b5e6-4a82-ffad-8e3be302bc14"
      },
      "source": [
        "plt.plot(history.history['loss'], label='train')\n",
        "plt.plot(history.history['val_loss'], label='test')\n",
        "plt.legend()\n",
        "plt.show()"
      ],
      "execution_count": 348,
      "outputs": [
        {
          "output_type": "display_data",
          "data": {
            "image/png": "[encoded data removed]",
            "text/plain": [
              "<Figure size 432x288 with 1 Axes>"
            ]
          },
          "metadata": {
            "tags": [],
            "needs_background": "light"
          }
        }
      ]
    },
    {
      "cell_type": "code",
      "metadata": {
        "id": "M4rffUinv_ru",
        "colab": {
          "base_uri": "https://localhost:8080/",
          "height": 483
        },
        "outputId": "5cb89d8f-430f-4bdc-d19a-5360c14d7552"
      },
      "source": [
        "yhat = model.predict(testX)\n",
        "plt.figure(figsize=(10,8))\n",
        "plt.plot(yhat, label='predict')\n",
        "plt.plot(testY, label='true')\n",
        "plt.legend()\n",
        "plt.show()"
      ],
      "execution_count": 349,
      "outputs": [
        {
          "output_type": "display_data",
          "data": {
            "image/png": "[encoded data removed]",
            "text/plain": [
              "<Figure size 720x576 with 1 Axes>"
            ]
          },
          "metadata": {
            "tags": [],
            "needs_background": "light"
          }
        }
      ]
    },
    {
      "cell_type": "code",
      "metadata": {
        "colab": {
          "base_uri": "https://localhost:8080/"
        },
        "id": "66u_qEaqdG6k",
        "outputId": "1e99cb2a-4f35-46da-eb34-e8459c1ad1ee"
      },
      "source": [
        "yhat.shape"
      ],
      "execution_count": 350,
      "outputs": [
        {
          "output_type": "execute_result",
          "data": {
            "text/plain": [
              "(311, 9)"
            ]
          },
          "metadata": {
            "tags": []
          },
          "execution_count": 350
        }
      ]
    },
    {
      "cell_type": "code",
      "metadata": {
        "id": "FyMJ7Wb9aceh"
      },
      "source": [
        "yhat_inverse = scaler.inverse_transform(yhat.reshape(-1, 1))\n",
        "testY_inverse = scaler.inverse_transform(testY.reshape(-1, 1))"
      ],
      "execution_count": 351,
      "outputs": []
    },
    {
      "cell_type": "code",
      "metadata": {
        "colab": {
          "base_uri": "https://localhost:8080/"
        },
        "id": "sKndsIuBdDg1",
        "outputId": "0593f155-3fdf-4ca7-fdb0-0753ef8f3d8f"
      },
      "source": [
        "yhat_inverse.shape"
      ],
      "execution_count": 352,
      "outputs": [
        {
          "output_type": "execute_result",
          "data": {
            "text/plain": [
              "(2799, 1)"
            ]
          },
          "metadata": {
            "tags": []
          },
          "execution_count": 352
        }
      ]
    },
    {
      "cell_type": "code",
      "metadata": {
        "colab": {
          "base_uri": "https://localhost:8080/",
          "height": 494
        },
        "id": "WEukOkfma7fI",
        "outputId": "ad9490ff-330e-42df-b675-d65323d6123a"
      },
      "source": [
        "plt.figure(figsize=(10,8))\n",
        "plt.plot(yhat_inverse, label='predict')\n",
        "plt.plot(testY_inverse, label='actual')\n",
        "plt.legend()\n",
        "plt.show()"
      ],
      "execution_count": 353,
      "outputs": [
        {
          "output_type": "display_data",
          "data": {
            "image/png": "[encoded data removed]",
            "text/plain": [
              "<Figure size 720x576 with 1 Axes>"
            ]
          },
          "metadata": {
            "tags": [],
            "needs_background": "light"
          }
        }
      ]
    },
    {
      "cell_type": "code",
      "metadata": {
        "id": "anDOY85ra_hn"
      },
      "source": [
        "predictDates = training.tail(len(testX)).index\n",
        "testY_reshape = testY_inverse.reshape(len(testY_inverse))\n",
        "yhat_reshape = yhat_inverse.reshape(len(yhat_inverse))"
      ],
      "execution_count": 354,
      "outputs": []
    },
    {
      "cell_type": "code",
      "metadata": {
        "colab": {
          "base_uri": "https://localhost:8080/",
          "height": 542
        },
        "id": "BbFy87n-br8Y",
        "outputId": "d09b976f-12f5-475e-93dc-68985f4915c4"
      },
      "source": [
        "import plotly.graph_objs as go\n",
        "import plotly.offline as py\n",
        "actual_chart = go.Scatter(x=predictDates, y=testY_reshape, name= 'Actual Price')\n",
        "predict_chart = go.Scatter(x=predictDates, y=yhat_reshape, name= 'Predict Price')\n",
        "py.iplot([predict_chart, actual_chart])"
      ],
      "execution_count": 355,
      "outputs": [
        {
          "output_type": "display_data",
          "data": {
            "text/html": [
              "<html>\n",
              "<head><meta charset=\"utf-8\" /></head>\n",
              "<body>\n",
              "    <div>\n",
              "            <script src=\"https://cdnjs.cloudflare.com/ajax/libs/mathjax/2.7.5/MathJax.js?config=TeX-AMS-MML_SVG\"></script><script type=\"text/javascript\">if (window.MathJax) {MathJax.Hub.Config({SVG: {font: \"STIX-Web\"}});}</script>\n",
              "                <script type=\"text/javascript\">window.PlotlyConfig = {MathJaxConfig: 'local'};</script>\n",
              "        <script src=\"https://cdn.plot.ly/plotly-latest.min.js\"></script>    \n",
              "            <div id=\"3f24b631-d4ac-4fde-8fd2-ad6fe7a8db67\" class=\"plotly-graph-div\" style=\"height:525px; width:100%;\"></div>\n",
              "            <script type=\"text/javascript\">\n",
              "                \n",
              "                    window.PLOTLYENV=window.PLOTLYENV || {};\n",
              "                    \n",
              "                if (document.getElementById(\"3f24b631-d4ac-4fde-8fd2-ad6fe7a8db67\")) {\n",
              "                    Plotly.newPlot(\n",
              "                        '3f24b631-d4ac-4fde-8fd2-ad6fe7a8db67',\n",
              "                        [{\"name\": \"Predict Price\", \"type\": \"scatter\", \"x\": [1245, 1246, 1247, 1248, 1249, 1250, 1251, 1252, 1253, 1254, 1255, 1256, 1257, 1258, 1259, 1260, 1261, 1262, 1263, 1264, 1265, 1266, 1267, 1268, 1269, 1270, 1271, 1272, 1273, 1274, 1275, 1276, 1277, 1278, 1279, 1280, 1281, 1282, 1283, 1284, 1285, 1286, 1287, 1288, 1289, 1290, 1291, 1292, 1293, 1294, 1295, 1296, 1297, 1298, 1299, 1300, 1301, 1302, 1303, 1304, 1305, 1306, 1307, 1308, 1309, 1310, 1311, 1312, 1313, 1314, 1315, 1316, 1317, 1318, 1319, 1320, 1321, 1322, 1323, 1324, 1325, 1326, 1327, 1328, 1329, 1330, 1331, 1332, 1333, 1334, 1335, 1336, 1337, 1338, 1339, 1340, 1341, 1342, 1343, 1344, 1345, 1346, 1347, 1348, 1349, 1350, 1351, 1352, 1353, 1354, 1355, 1356, 1357, 1358, 1359, 1360, 1361, 1362, 1363, 1364, 1365, 1366, 1367, 1368, 1369, 1370, 1371, 1372, 1373, 1374, 1375, 1376, 1377, 1378, 1379, 1380, 1381, 1382, 1383, 1384, 1385, 1386, 1387, 1388, 1389, 1390, 1391, 1392, 1393, 1394, 1395, 1396, 1397, 1398, 1399, 1400, 1401, 1402, 1403, 1404, 1405, 1406, 1407, 1408, 1409, 1410, 1411, 1412, 1413, 1414, 1415, 1416, 1417, 1418, 1419, 1420, 1421, 1422, 1423, 1424, 1425, 1426, 1427, 1428, 1429, 1430, 1431, 1432, 1433, 1434, 1435, 1436, 1437, 1438, 1439, 1440, 1441, 1442, 1443, 1444, 1445, 1446, 1447, 1448, 1449, 1450, 1451, 1452, 1453, 1454, 1455, 1456, 1457, 1458, 1459, 1460, 1461, 1462, 1463, 1464, 1465, 1466, 1467, 1468, 1469, 1470, 1471, 1472, 1473, 1474, 1475, 1476, 1477, 1478, 1479, 1480, 1481, 1482, 1483, 1484, 1485, 1486, 1487, 1488, 1489, 1490, 1491, 1492, 1493, 1494, 1495, 1496, 1497, 1498, 1499, 1500, 1501, 1502, 1503, 1504, 1505, 1506, 1507, 1508, 1509, 1510, 1511, 1512, 1513, 1514, 1515, 1516, 1517, 1518, 1519, 1520, 1521, 1522, 1523, 1524, 1525, 1526, 1527, 1528, 1529, 1530, 1531, 1532, 1533, 1534, 1535, 1536, 1537, 1538, 1539, 1540, 1541, 1542, 1543, 1544, 1545, 1546, 1547, 1548, 1549, 1550, 1551, 1552, 1553, 1554, 1555], \"y\": [7888205312.0, 7886572544.0, 7882441728.0, 7904286720.0, 7879582208.0, 7876896256.0, 7872641536.0, 7878103552.0, 7883986944.0, 7907659776.0, 7906092544.0, 7901871104.0, 7923805184.0, 7899060224.0, 7896407552.0, 7892149760.0, 7897622016.0, 7903528960.0, 6804947456.0, 6799741440.0, 6800582144.0, 6817492480.0, 6795098624.0, 6790543872.0, 6786530304.0, 6791372288.0, 6795877376.0, 6850206720.0, 6845148160.0, 6845782016.0, 6862899200.0, 6840408576.0, 6835930112.0, 6831904768.0, 6836773888.0, 6841339392.0, 6675826176.0, 6670196224.0, 6671629824.0, 6687948800.0, 6665835520.0, 6661062144.0, 6657081856.0, 6661844480.0, 6666178560.0, 6972255232.0, 6967597056.0, 6967672320.0, 6985347072.0, 6962592256.0, 6958322176.0, 6954266112.0, 6959208960.0, 6963934720.0, 6989814272.0, 6985213440.0, 6985207808.0, 7002964480.0, 6980170240.0, 6975930368.0, 6971870208.0, 6976822784.0, 6981571584.0, 6542880768.0, 6536817152.0, 6538859008.0, 6554568192.0, 6532745216.0, 6527747584.0, 6523803136.0, 6528482816.0, 6532638720.0, 6572573184.0, 6566606336.0, 6568512000.0, 6584357888.0, 6562470912.0, 6557521408.0, 6553569792.0, 6558267904.0, 6562463744.0, 7232638976.0, 7228837888.0, 7227718144.0, 7246582272.0, 7223267840.0, 7219443712.0, 7215325184.0, 7220422144.0, 7225484288.0, 7234969088.0, 7231174656.0, 7230044672.0, 7248919552.0, 7225598976.0, 7221779968.0, 7217660928.0, 7222758400.0, 7227824128.0, 6904583680.0, 6899703808.0, 6900088320.0, 6917455872.0, 6894845440.0, 6890460160.0, 6886420992.0, 6891323904.0, 6895960576.0, 6729362944.0, 6723908608.0, 6725096448.0, 6741661184.0, 6719431168.0, 6714747904.0, 6710753280.0, 6715548672.0, 6719955456.0, 7400633344.0, 7397385728.0, 7395495936.0, 7415124992.0, 7391451136.0, 7387917312.0, 7383761408.0, 7388954112.0, 7394230272.0, 7428023296.0, 7424865792.0, 7422849536.0, 7442604032.0, 7418871808.0, 7415385088.0, 7411223552.0, 7416431616.0, 7421743104.0, 7438293504.0, 7435170304.0, 7433107456.0, 7452908032.0, 7429154816.0, 7425685504.0, 7421521408.0, 7426735616.0, 7432059392.0, 7302015488.0, 7298443776.0, 7297004544.0, 7316185088.0, 7292722176.0, 7289017344.0, 7284883968.0, 7290019840.0, 7295171584.0, 7687505920.0, 7685208064.0, 7681998848.0, 7702933504.0, 7678650880.0, 7675614208.0, 7671398912.0, 7676751872.0, 7682388480.0, 7786977792.0, 7785009664.0, 7781343744.0, 7802729984.0, 7778238464.0, 7775374848.0, 7771139072.0, 7776546816.0, 7782306304.0, 7160598528.0, 7156559360.0, 7155770368.0, 7174306304.0, 7151145472.0, 7147198976.0, 7143097344.0, 7148150784.0, 7153120768.0, 7677427712.0, 7675096576.0, 7671933440.0, 7692822528.0, 7668562432.0, 7665507328.0, 7661294592.0, 7666640896.0, 7672265216.0, 7901996032.0, 7900409856.0, 7896214528.0, 7918123008.0, 7893389312.0, 7890726912.0, 7886470656.0, 7891939328.0, 7897840128.0, 8019424256.0, 8018228736.0, 8013493760.0, 8035933696.0, 8010954752.0, 8008498688.0, 8004220416.0, 8009751552.0, 8015794688.0, 7993547776.0, 7992265728.0, 7987650048.0, 8009972736.0, 7985047552.0, 7982545920.0, 7978272768.0, 7983789568.0, 7989801984.0, 7885457920.0, 7883816960.0, 7879698432.0, 7901532160.0, 7876833280.0, 7874141184.0, 7869888000.0, 7875347968.0, 7881228288.0, 8186861568.0, 8186224640.0, 8180717568.0, 8203915776.0, 8178587648.0, 8176426496.0, 8172120064.0, 8177737728.0, 8183982592.0, 9123516416.0, 9126025216.0, 9116192768.0, 9143609344.0, 9116363776.0, 9115877376.0, 9111447552.0, 9117514752.0, 9124841472.0, 9497657344.0, 9501432832.0, 9489865728.0, 9518957568.0, 9490962432.0, 9491158016.0, 9486696448.0, 9492924416.0, 9500663808.0, 9664368640.0, 9668711424.0, 9656369152.0, 9686204416.0, 9657879552.0, 9658381312.0, 9653908480.0, 9660205056.0, 9668124672.0, 9587528704.0, 9591610368.0, 9579625472.0, 9609118720.0, 9580944384.0, 9581305856.0, 9576838144.0, 9583102976.0, 9590939648.0, 9587623936.0, 9591706624.0, 9579720704.0, 9609213952.0, 9581040640.0, 9581401088.0, 9576934400.0, 9583198208.0, 9591035904.0, 9688509440.0, 9692935168.0, 9680481280.0, 9710423040.0, 9682050048.0, 9682596864.0, 9678123008.0, 9684428800.0, 9692374016.0, 9633824768.0, 9638064128.0, 9625864192.0, 9655563264.0, 9627297792.0, 9627743232.0, 9623273472.0, 9629556736.0, 9637443584.0, 9510048768.0, 9513866240.0, 9502240768.0, 9531388928.0, 9503368192.0, 9503587328.0, 9499124736.0, 9505357824.0, 9513110528.0, 9596050432.0, 9600161792.0, 9588136960.0, 9617668096.0, 9589477376.0, 9589853184.0, 9585385472.0, 9591654400.0, 9599500288.0, 9404472320.0, 9407932416.0, 9396797440.0, 9425472512.0, 9397662720.0, 9397688320.0, 9393233920.0, 9399421952.0, 9407059968.0, 8986605568.0, 8988652544.0, 8979452928.0, 9006256128.0, 8979286016.0, 8978552832.0, 8974137344.0, 8980143104.0, 8987317248.0, 10289774592.0, 10296256512.0, 10281003008.0, 10313617408.0, 10284069888.0, 10285732864.0, 10281237504.0, 10287771648.0, 10296346624.0, 9912325120.0, 9917512704.0, 9904018432.0, 9934958592.0, 9906144256.0, 9907104768.0, 9902618624.0, 9909013504.0, 9917196288.0, 9232809984.0, 9235687424.0, 9225349120.0, 9253256192.0, 9225790464.0, 9225502720.0, 9221062656.0, 9227176960.0, 9234626560.0, 9534375936.0, 9538276352.0, 9526538240.0, 9555793920.0, 9527726080.0, 9527989248.0, 9523524608.0, 9529767936.0, 9537547264.0, 9803192320.0, 9808008192.0, 9795020800.0, 9825475584.0, 9796875264.0, 9797633024.0, 9793154048.0, 9799504896.0, 9807571968.0, 10059899904.0, 10065593344.0, 10051410944.0, 10083006464.0, 10053904384.0, 10055138304.0, 10050648064.0, 10057097216.0, 10065435648.0, 10085715968.0, 10091498496.0, 10077195264.0, 10108906496.0, 10079753216.0, 10081035264.0, 10076544000.0, 10083004416.0, 10091368448.0, 10102519808.0, 10108359680.0, 10093978624.0, 10125762560.0, 10096577536.0, 10097891328.0, 10093400064.0, 10099865600.0, 10108247040.0, 9719622656.0, 9724153856.0, 9711554560.0, 9741636608.0, 9713202176.0, 9713805312.0, 9709330432.0, 9715648512.0, 9723626496.0, 9438963712.0, 9442540544.0, 9431245824.0, 9460074496.0, 9432196096.0, 9432285184.0, 9427827712.0, 9434031104.0, 9441705984.0, 9651971072.0, 9656271872.0, 9643987968.0, 9673768960.0, 9645467648.0, 9645946880.0, 9641475072.0, 9647766528.0, 9655671808.0, 9954627584.0, 9959961600.0, 9946269696.0, 9977397248.0, 9948500992.0, 9949538304.0, 9945052160.0, 9951462400.0, 9959690240.0, 9628450816.0, 9632672768.0, 9620497408.0, 9650171904.0, 9621917696.0, 9622353920.0, 9617883136.0, 9624165376.0, 9632046080.0, 9743737856.0, 9748350976.0, 9735640064.0, 9765829632.0, 9737347072.0, 9737995264.0, 9733519360.0, 9739846656.0, 9747851264.0, 9942630400.0, 9947922432.0, 9934286848.0, 9965360128.0, 9936487424.0, 9937504256.0, 9933018112.0, 9939423232.0, 9947637760.0, 10660586496.0, 10668343296.0, 10651356160.0, 10685608960.0, 10655349760.0, 10657711104.0, 10653216768.0, 10659877888.0, 10668826624.0, 10019232768.0, 10024785920.0, 10010792960.0, 10042208256.0, 10013185024.0, 10014343168.0, 10009854976.0, 10016289792.0, 10024584192.0, 9769623552.0, 9774324736.0, 9761494016.0, 9791798272.0, 9763265536.0, 9763960832.0, 9759482880.0, 9765821440.0, 9773852672.0, 9703819264.0, 9708297216.0, 9695771648.0, 9725783040.0, 9697379328.0, 9697953792.0, 9693478912.0, 9699790848.0, 9707753472.0, 9171757056.0, 9174428672.0, 9164371968.0, 9192005632.0, 9164662784.0, 9164264448.0, 9159829504.0, 9165918208.0, 9173299200.0, 10972489728.0, 10981324800.0, 10962877440.0, 10998503424.0, 10967652352.0, 10970606592.0, 10966121472.0, 10972879872.0, 10982135808.0, 10808146944.0, 10816413696.0, 10798735360.0, 10833638400.0, 10803098624.0, 10805740544.0, 10801249280.0, 10807957504.0, 10817051648.0, 9868851200.0, 9873891328.0, 9860598784.0, 9891344384.0, 9862616064.0, 9863494656.0, 9859012608.0, 9865390080.0, 9873526784.0, 9455498240.0, 9459131392.0, 9447759872.0, 9476662272.0, 9448751104.0, 9448870912.0, 9444412416.0, 9450621952.0, 9458315264.0, 9220380672.0, 9223217152.0, 9212935168.0, 9240785920.0, 9213344768.0, 9213035520.0, 9208596480.0, 9214705664.0, 9222140928.0, 8887067648.0, 8888777728.0, 8880038912.0, 8906394624.0, 8879627264.0, 8878713856.0, 8874309632.0, 8880269312.0, 8887330816.0, 8680943616.0, 8681960448.0, 8674174976.0, 8699602944.0, 8673255424.0, 8671972352.0, 8667593728.0, 8673456128.0, 8680281088.0, 8740388864.0, 8741605376.0, 8733545472.0, 8759240704.0, 8732772352.0, 8731595776.0, 8727208960.0, 8733100032.0, 8739993600.0, 8530529792.0, 8531041792.0, 8523950592.0, 8548701184.0, 8522662400.0, 8521110528.0, 8516751872.0, 8522541568.0, 8529192448.0, 8382919680.0, 8382937088.0, 8376526336.0, 8400610816.0, 8374876160.0, 8373062144.0, 8368724992.0, 8374441984.0, 8380919296.0, 8488959488.0, 8489332736.0, 8482433024.0, 8506996224.0, 8481043456.0, 8479417344.0, 8475064320.0, 8480834048.0, 8487436288.0, 8765363200.0, 8766664704.0, 8758488064.0, 8784296960.0, 8757776384.0, 8756644864.0, 8752254976.0, 8758157312.0, 8765080576.0, 7901865984.0, 7900279808.0, 7896085504.0, 7917992448.0, 7893259776.0, 7890596864.0, 7886340096.0, 7891809280.0, 7897709568.0, 7714541568.0, 7712332288.0, 7709000192.0, 7730057216.0, 7705718272.0, 7702728192.0, 7698507776.0, 7703875584.0, 7709544960.0, 7775310848.0, 7773303808.0, 7769691136.0, 7791025152.0, 7766557696.0, 7763674112.0, 7759440896.0, 7764841984.0, 7770586624.0, 7165323776.0, 7161300480.0, 7160489984.0, 7179046912.0, 7155876352.0, 7151936512.0, 7147833856.0, 7152891392.0, 7157867008.0, 7050533888.0, 7046132736.0, 7045848576.0, 7063881216.0, 7040957440.0, 7036820992.0, 7032745984.0, 7037735424.0, 7042562560.0, 7229871616.0, 7226060800.0, 7224954368.0, 7243805696.0, 7220496384.0, 7216668160.0, 7212550656.0, 7217645056.0, 7222703616.0, 7995457536.0, 7994182144.0, 7989557248.0, 8011889152.0, 7986959872.0, 7984461824.0, 7980187648.0, 7985705984.0, 7991720448.0, 6246438912.0, 6239409152.0, 6242806272.0, 6257156096.0, 6235982336.0, 6230486016.0, 6226627584.0, 6231117824.0, 6234870272.0, 7820366848.0, 7818509312.0, 7814689792.0, 7836227584.0, 7811665920.0, 7808860672.0, 7804619264.0, 7810043904.0, 7815844864.0, 8115017216.0, 8114140672.0, 8108964864.0, 8131838464.0, 8106659840.0, 8104371712.0, 8100076544.0, 8105657856.0, 8111816192.0, 10074816512.0, 10080561152.0, 10066309120.0, 10097970176.0, 10068839424.0, 10070102016.0, 10065610752.0, 10072066048.0, 10080419840.0, 10011108352.0, 10016634880.0, 10002679808.0, 10034058240.0, 10005052416.0, 10006194176.0, 10001705984.0, 10008138752.0, 10016423936.0, 10300196864.0, 10306713600.0, 10291409920.0, 10324072448.0, 10294503424.0, 10296185856.0, 10291690496.0, 10298228736.0, 10306813952.0, 9999467520.0, 10004954112.0, 9991052288.0, 10022380544.0, 9993395200.0, 9994517504.0, 9990029312.0, 9996456960.0, 10004730880.0, 10088565760.0, 10094357504.0, 10080040960.0, 10111763456.0, 10082605056.0, 10083893248.0, 10079401984.0, 10085862400.0, 10094229504.0, 11388515328.0, 11398796288.0, 11378393088.0, 11415842816.0, 11384215552.0, 11387970560.0, 11383505920.0, 11390385152.0, 11400038400.0, 10194547712.0, 10200702976.0, 10185892864.0, 10218085376.0, 10188722176.0, 10190206976.0, 10185713664.0, 10192212992.0, 10200690688.0, 9048338432.0, 9050592256.0, 9041107968.0, 9068187648.0, 9041093632.0, 9040471040.0, 9036049408.0, 9042082816.0, 9049325568.0, 7993704448.0, 7992423424.0, 7987806720.0, 8010130432.0, 7985204224.0, 7982703616.0, 7978430464.0, 7983947776.0, 7989959168.0, 9513575424.0, 9517406208.0, 9505764352.0, 9534927872.0, 9506899968.0, 9507126272.0, 9502662656.0, 9508897792.0, 9516654592.0, 12044742656.0, 12057320448.0, 12033819648.0, 12074123264.0, 12041300992.0, 12046333952.0, 12041935872.0, 12048973824.0, 12059229184.0, 13509318656.0, 13527093248.0, 13496607744.0, 13543188480.0, 13507821568.0, 13515801600.0, 13511673856.0, 13518937088.0, 13530433536.0, 12494964736.0, 12509128704.0, 12483490816.0, 12525740032.0, 12492115968.0, 12498040832.0, 12493709312.0, 12500833280.0, 12511486976.0, 12081664000.0, 12094371840.0, 12070695936.0, 12111159296.0, 12078269440.0, 12083376128.0, 12078983168.0, 12086028288.0, 12096318464.0, 10877305856.0, 10885811200.0, 10867809280.0, 10903017472.0, 10872346624.0, 10875118592.0, 10870630400.0, 10877360128.0, 10886521856.0, 13162747904.0, 13179284480.0, 13150459904.0, 13195568128.0, 13160786944.0, 13168057344.0, 13163850752.0, 13171077120.0, 13182292992.0, 13163193344.0, 13179730944.0, 13150905344.0, 13196016640.0, 13161232384.0, 13168505856.0, 13164299264.0, 13171524608.0, 13182740480.0, 12005309440.0, 12017747968.0, 11994432512.0, 12034565120.0, 12001814528.0, 12006770688.0, 12002367488.0, 12009397248.0, 12019615744.0, 11507059712.0, 11517753344.0, 11496792064.0, 11534758912.0, 11502913536.0, 11506895872.0, 11502442496.0, 11509352448.0, 11519116288.0, 10519756800.0, 10527029248.0, 10510700544.0, 10544332800.0, 10514341888.0, 10516438016.0, 10511941632.0, 10518555648.0, 10527363072.0, 9138617344.0, 9141177344.0, 9131274240.0, 9158759424.0, 9131482112.0, 9131024384.0, 9126592512.0, 9132665856.0, 9140009984.0, 8771491840.0, 8772813824.0, 8764609536.0, 8790445056.0, 8763913216.0, 8762791936.0, 8758402048.0, 8764306432.0, 8771235840.0, 9019091968.0, 9021248512.0, 9011898368.0, 9038846976.0, 9011812352.0, 9011137536.0, 9006717952.0, 9012738048.0, 9019949056.0, 8750994432.0, 8752246784.0, 8744136704.0, 8769880064.0, 8743390208.0, 8742233088.0, 8737845248.0, 8743740416.0, 8750646272.0, 8232883712.0, 8232399872.0, 8226681344.0, 8250087936.0, 8224663552.0, 8222584320.0, 8218269696.0, 8223911424.0, 8230211072.0, 6908980224.0, 6904114688.0, 6904479232.0, 6921865728.0, 6899246592.0, 6894868992.0, 6890828288.0, 6895733248.0, 6900376064.0, 6749009920.0, 6743619072.0, 6744717312.0, 6761370624.0, 6739099648.0, 6734449664.0, 6730450432.0, 6735258112.0, 6739689472.0, 8105491456.0, 8104582656.0, 8099450880.0, 8122280960.0, 8097121792.0, 8094817280.0, 8090524160.0, 8096099840.0, 8102247424.0, 5986412032.0, 5978539008.0, 5983123968.0, 5996279296.0, 5975680512.0, 5969750528.0, 5965969920.0, 5970289664.0, 5973681152.0, 5492331008.0, 5482861568.0, 5489704960.0, 5500581376.0, 5481085440.0, 5474341888.0, 5470722048.0, 5474705920.0, 5477392384.0, 5287583744.0, 5277456384.0, 5285233664.0, 5295164416.0, 5276129280.0, 5269050880.0, 5265502720.0, 5269342208.0, 5271730176.0, 5304473088.0, 5294400000.0, 5302099456.0, 5312108544.0, 5293035520.0, 5285984768.0, 5282431488.0, 5286282240.0, 5288694784.0, 5193069568.0, 5182638080.0, 5190846464.0, 5200341504.0, 5181519872.0, 5174287360.0, 5170772992.0, 5174545408.0, 5176793088.0, 4816128000.0, 4804491264.0, 4814418944.0, 4822167040.0, 4804205056.0, 4796362752.0, 4792988160.0, 4796486144.0, 4798168064.0, 4670576128.0, 4658475008.0, 4669064704.0, 4676138496.0, 4658509824.0, 4650434048.0, 4647115776.0, 4650505728.0, 4651966464.0, 4529372160.0, 4516823552.0, 4528056320.0, 4534474240.0, 4517170176.0, 4508869632.0, 4505607168.0, 4508890624.0, 4510133248.0, 4714668032.0, 4702709248.0, 4713098752.0, 4720375808.0, 4702645760.0, 4694641152.0, 4691305984.0, 4694727680.0, 4696256512.0, 4631951872.0, 4619728896.0, 4630494208.0, 4637389824.0, 4619848704.0, 4611711488.0, 4608409088.0, 4611769344.0, 4613170176.0, 4312384512.0, 4299146752.0, 4311369728.0, 4316780032.0, 4299975680.0, 4291329024.0, 4288157184.0, 4291272960.0, 4292177664.0, 4037477376.0, 4023368960.0, 4036843776.0, 4040975872.0, 4024810240.0, 4015729664.0, 4012673280.0, 4015575296.0, 4016042752.0, 3911539968.0, 3897033728.0, 3911082752.0, 3914627584.0, 3898755840.0, 3889477888.0, 3886475264.0, 3889277440.0, 3889542400.0, 3797084928.0, 3782220032.0, 3796789760.0, 3799801344.0, 3784197632.0, 3774740736.0, 3771789312.0, 3774499072.0, 3774578688.0, 3691459072.0, 3676262400.0, 3691312640.0, 3693832448.0, 3678475520.0, 3668852480.0, 3665949696.0, 3668574720.0, 3668480512.0, 3628947200.0, 3613553664.0, 3628888320.0, 3631116800.0, 3615907840.0, 3606189056.0, 3603312896.0, 3605886720.0, 3605690368.0, 3627046400.0, 3611646208.0, 3626990080.0, 3629209344.0, 3614004480.0, 3604282368.0, 3601407488.0, 3603979264.0, 3603781888.0, 3612849152.0, 3597404672.0, 3612813312.0, 3614966272.0, 3599795712.0, 3590050048.0, 3587181568.0, 3589741568.0, 3589520384.0, 3583412224.0, 3567875328.0, 3583418368.0, 3585434112.0, 3570333440.0, 3560542208.0, 3557686528.0, 3560224000.0, 3559952896.0, 3615091200.0, 3599653376.0, 3615052800.0, 3617215232.0, 3602038528.0, 3592297984.0, 3589428480.0, 3591991296.0, 3591772928.0, 3573329152.0, 3557760000.0, 3573349376.0, 3575317248.0, 3560239616.0, 3550433280.0, 3547582720.0, 3550111232.0, 3549823744.0, 3556341504.0, 3540719616.0, 3556384768.0, 3558274816.0, 3543237120.0, 3533404160.0, 3530561536.0, 3533076992.0, 3532761344.0, 3419104512.0, 3403051264.0, 3419343616.0, 3420592128.0, 3405877504.0, 3395832576.0, 3393053440.0, 3395454976.0, 3394911744.0, 3493968128.0, 3478150656.0, 3494100736.0, 3495698944.0, 3480808192.0, 3470878208.0, 3468064768.0, 3470528768.0, 3470109696.0, 3565014016.0, 3549419776.0, 3565046272.0, 3566975744.0, 3551918336.0, 3542098432.0, 3539251200.0, 3541773056.0, 3541472000.0, 3681958656.0, 3666731264.0, 3681825024.0, 3684299776.0, 3668966400.0, 3659330048.0, 3656429568.0, 3659046656.0, 3658937344.0, 3533379584.0, 3517686016.0, 3533455872.0, 3535237120.0, 3520255744.0, 3510385664.0, 3507553792.0, 3510050560.0, 3509697792.0, 3458112256.0, 3442182144.0, 3458295808.0, 3459726336.0, 3444920320.0, 3434935040.0, 3432137984.0, 3434573056.0, 3434093568.0, 3403357440.0, 3387255040.0, 3403618560.0, 3404794112.0, 3390116864.0, 3380046592.0, 3377274624.0, 3379663872.0, 3379093760.0, 3381285888.0, 3365113600.0, 3381579264.0, 3382649600.0, 3368025856.0, 3357921536.0, 3355160832.0, 3357530624.0, 3356924160.0, 3273488640.0, 3256980992.0, 3273934080.0, 3274502144.0, 3260133888.0, 3249864704.0, 3247152896.0, 3249433344.0, 3248646144.0, 3208837888.0, 3192128768.0, 3209378048.0, 3209643520.0, 3195429120.0, 3185059840.0, 3182379264.0, 3184606208.0, 3183709184.0, 3182003712.0, 3165209856.0, 3182582528.0, 3182722560.0, 3168571648.0, 3158158848.0, 3155492608.0, 3157696256.0, 3156753664.0, 3203238400.0, 3186509824.0, 3203784704.0, 3204024832.0, 3189822976.0, 3179443456.0, 3176766464.0, 3178990080.0, 3178082304.0, 3170125824.0, 3153294592.0, 3170720768.0, 3170805248.0, 3156680704.0, 3146250752.0, 3143591168.0, 3145785856.0, 3144822528.0, 3159653376.0, 3142788352.0, 3160261376.0, 3160298496.0, 3146200320.0, 3135754240.0, 3133098496.0, 3135283200.0, 3134302720.0, 3132154368.0, 3115204096.0, 3132804352.0, 3132711168.0, 3118677248.0, 3108189184.0, 3105547520.0, 3107709184.0, 3106683392.0, 3103404800.0, 3086366464.0, 3104095488.0, 3103869184.0, 3089903872.0, 3079373312.0, 3076743424.0, 3078880768.0, 3077805312.0, 3102084608.0, 3085040128.0, 3102776576.0, 3102543616.0, 3088582656.0, 3078048512.0, 3075419648.0, 3077558016.0, 3076478208.0, 3101201920.0, 3084155648.0, 3101896448.0, 3101659136.0, 3087699712.0, 3077165056.0, 3074535936.0, 3076672000.0, 3075592704.0, 3069213184.0, 3052066560.0, 3069952768.0, 3069565440.0, 3055681536.0, 3045097728.0, 3042485504.0, 3044594944.0, 3043460864.0, 3074760960.0, 3057632000.0, 3075492096.0, 3075131392.0, 3061234432.0, 3050658816.0, 3048043264.0, 3050157568.0, 3049033216.0, 3092145408.0, 3075070976.0, 3092851200.0, 3092571136.0, 3078633472.0, 3068085248.0, 3065461248.0, 3067589632.0, 3066494464.0, 3084787968.0, 3067689984.0, 3085504768.0, 3085190912.0, 3071270912.0, 3060710400.0, 3058090496.0, 3060212224.0, 3059104256.0, 3086167808.0, 3069073664.0, 3086881536.0, 3086573568.0, 3072651008.0, 3062093312.0, 3059471104.0, 3061595136.0, 3060489472.0, 3051687680.0, 3034486016.0, 3052451072.0, 3051983360.0, 3038141440.0, 3027531776.0, 3024927488.0, 3027021056.0, 3025857280.0, 2993103104.0, 2975720192.0, 2993953024.0, 2993208320.0, 2979508480.0, 2968807424.0, 2966232064.0, 2968276736.0, 2967012096.0, 3107590144.0, 3090562560.0, 3108273920.0, 3108066048.0, 3094091520.0, 3083565568.0, 3080934400.0, 3083075840.0, 3082007040.0, 3111384576.0, 3094370304.0, 3112062976.0, 3111872768.0, 3097889280.0, 3087369216.0, 3084736512.0, 3086882304.0, 3085819136.0, 3140510208.0, 3123586560.0, 3141148160.0, 3141093888.0, 3127042048.0, 3116566528.0, 3113920000.0, 3116089600.0, 3115075584.0, 3125364224.0, 3108391424.0, 3126021376.0, 3125897216.0, 3111880192.0, 3101381120.0, 3098742528.0, 3100899584.0, 3099860736.0, 3117599232.0, 3100604672.0, 3118269440.0, 3118108672.0, 3104110848.0, 3093600512.0, 3090964480.0, 3093115392.0, 3092062464.0, 3085611520.0, 3068516608.0, 3086327808.0, 3086017024.0, 3072094976.0, 3061535232.0, 3058915072.0, 3061038336.0, 3059931904.0, 3080551936.0, 3063440128.0, 3081273856.0, 3080939776.0, 3067030272.0, 3056463616.0, 3053844480.0, 3055963392.0, 3054849792.0, 3074765312.0, 3057635072.0, 3075496704.0, 3075135232.0, 3061239552.0, 3050664704.0, 3048049664.0, 3050162176.0, 3049038592.0, 3065715968.0, 3048558592.0, 3066461184.0, 3066057472.0, 3052182528.0, 3041592576.0, 3038981376.0, 3041088256.0, 3039947776.0, 3084455168.0, 3067356416.0, 3085171712.0, 3084855296.0, 3070937600.0, 3060376064.0, 3057756160.0, 3059877888.0, 3058770432.0, 3076847872.0, 3059726848.0, 3077576448.0, 3077225984.0, 3063324160.0, 3052751616.0, 3050135552.0, 3052250880.0, 3051129856.0, 3070522624.0, 3053380864.0, 3071260416.0, 3070878976.0, 3056994560.0, 3046410752.0, 3043798016.0, 3045907968.0, 3044775680.0, 3088087296.0, 3070999552.0, 3088799232.0, 3088500480.0, 3074572544.0, 3064017664.0, 3061396224.0, 3063520512.0, 3062418176.0, 3098645760.0, 3081590784.0, 3099342336.0, 3099093760.0, 3085140224.0, 3074600704.0, 3071973888.0, 3074108160.0, 3073024256.0, 3100563456.0, 3083514368.0, 3101257728.0, 3101016832.0, 3087059200.0, 3076523264.0, 3073895424.0, 3076031232.0, 3074950656.0, 3099453696.0, 3082401536.0, 3100148992.0, 3099904768.0, 3085947904.0, 3075410176.0, 3072782080.0, 3074918912.0, 3073834752.0, 3094406144.0, 3077338368.0, 3095109376.0, 3094839040.0, 3080897280.0, 3070350848.0, 3067727872.0, 3069856768.0, 3068765952.0, 3084564736.0, 3067466752.0, 3085282816.0, 3084968192.0, 3071047168.0, 3060486912.0, 3057866496.0, 3059989248.0, 3058880768.0, 3120756480.0, 3103771904.0, 3121422336.0, 3121275136.0, 3107270400.0, 3096764160.0, 3094127360.0, 3096279296.0, 3095233536.0, 3106144512.0, 3089113856.0, 3106829824.0, 3106616320.0, 3092645376.0, 3082117888.0, 3079486464.0, 3081627136.0, 3080556032.0, 3123500800.0, 3106524160.0, 3124161792.0, 3124028928.0, 3110017536.0, 3099515392.0, 3096876544.0, 3099032064.0, 3097989376.0, 3060302592.0, 3043129088.0, 3061054976.0, 3060626688.0, 3046765568.0, 3036166656.0, 3033558528.0, 3035660032.0, 3034510336.0, 3068906752.0, 3051760896.0, 3069646336.0, 3069259264.0, 3055375872.0, 3044791040.0, 3042179072.0, 3044288256.0, 3043152896.0, 3033589248.0, 3016331264.0, 3034380288.0, 3033825280.0, 3020027136.0, 3009389312.0, 3006794752.0, 3008872192.0, 3007676928.0, 3047964928.0, 3030753792.0, 3048735744.0, 3048249344.0, 3034417152.0, 3023799552.0, 3021198080.0, 3023289344.0, 3022117888.0, 3013963776.0, 2996645888.0, 3014781696.0, 3014136832.0, 3000386048.0, 2989716480.0, 2987130624.0, 2989193728.0, 2987964672.0, 3062643712.0, 3045477888.0, 3063391744.0, 3062974720.0, 3049108224.0, 3038513664.0, 3035902976.0, 3038008064.0, 3036861952.0, 3064075520.0, 3046912000.0, 3064821504.0, 3064410368.0, 3050541056.0, 3039947008.0, 3037337600.0, 3039442176.0, 3038298880.0, 3127186688.0, 3110221824.0, 3127843072.0, 3127727360.0, 3113705984.0, 3103209728.0, 3100570112.0, 3102727680.0, 3101693184.0, 3120829440.0, 3103844352.0, 3121494272.0, 3121349120.0, 3107343872.0, 3096837888.0, 3094201600.0, 3096353280.0, 3095306240.0, 3140090624.0, 3123165696.0, 3140728832.0, 3140672512.0, 3126620672.0, 3116144128.0, 3113497344.0, 3115666432.0, 3114653952.0, 3116946688.0, 3099948544.0, 3117616896.0, 3117452800.0, 3103455488.0, 3092945408.0, 3090310400.0, 3092459008.0, 3091405824.0, 3103222272.0, 3086182656.0, 3103912704.0, 3103685376.0, 3089721600.0, 3079189760.0, 3076559360.0, 3078698240.0, 3077621248.0, 3033555200.0, 3016297728.0, 3034345472.0, 3033792000.0, 3019993088.0, 3009355008.0, 3006759936.0, 3008838912.0, 3007643392.0, 3034969344.0, 3017715712.0, 3035757568.0, 3035211264.0, 3021409536.0, 3010771456.0, 3008175872.0, 3010257152.0, 3009063680.0, 3059476736.0, 3042300416.0, 3060229120.0, 3059798528.0, 3045937920.0, 3035339776.0, 3032731648.0, 3034831872.0, 3033680896.0, 3018041856.0, 3000736000.0, 3018854912.0, 3018228224.0, 3004467712.0, 2993805056.0, 2991217664.0, 2993283328.0, 2992060416.0, 3030837760.0, 3013571328.0, 3031632384.0, 3031065600.0, 3017274112.0, 3006630656.0, 3004037888.0, 3006114048.0, 3004914432.0, 3014530560.0, 2997213696.0, 3015347456.0, 3014705664.0, 3000953344.0, 2990283520.0, 2987697920.0, 2989761536.0, 2988533248.0, 3007248896.0, 2989909760.0, 3008077568.0, 3007399936.0, 2993665280.0, 2982985472.0, 2980403712.0, 2982460672.0, 2981219840.0, 3029230848.0, 3011959296.0, 3030026240.0, 3029453312.0, 3015666176.0, 3005019648.0, 3002427392.0, 3004501760.0, 3003299328.0, 3037190656.0, 3019945216.0, 3037975808.0, 3037440512.0, 3023633152.0, 3013000448.0, 3010403072.0, 3012484096.0, 3011295744.0, 3023490560.0, 3006201344.0, 3024294400.0, 3023693824.0, 3009920768.0, 2999266560.0, 2996676608.0, 2998747136.0, 2997533696.0, 3009071104.0, 2991738368.0, 3009896960.0, 3009228544.0, 2995490048.0, 2984812544.0, 2982228480.0, 2984288512.0, 2983049728.0, 2973052672.0, 2955606784.0, 2973929472.0, 2973093120.0, 2959439872.0, 2948707840.0, 2946142208.0, 2948170240.0, 2946870528.0, 2968758784.0, 2951299584.0, 2969641728.0, 2968786176.0, 2955141888.0, 2944403712.0, 2941840384.0, 2943864576.0, 2942556928.0, 2944717056.0, 2927182336.0, 2945635072.0, 2944666112.0, 2931078656.0, 2920305408.0, 2917752064.0, 2919757056.0, 2918408704.0, 2950788352.0, 2933273856.0, 2951699200.0, 2950758912.0, 2937157632.0, 2926391552.0, 2923837440.0, 2925845248.0, 2924508672.0, 2966753280.0, 2949287680.0, 2967639808.0, 2966774016.0, 2953135104.0, 2942394880.0, 2939832320.0, 2941853952.0, 2940542720.0, 2947501056.0, 2929975808.0, 2948414976.0, 2947459072.0, 2933867264.0, 2923096576.0, 2920543744.0, 2922548736.0, 2921205760.0, 2931075584.0, 2913500160.0, 2932014080.0, 2930980864.0, 2917428736.0, 2906631680.0, 2904087808.0, 2906078720.0, 2904707328.0, 2918257152.0, 2900639488.0, 2919211776.0, 2918119936.0, 2904596992.0, 2893782016.0, 2891243008.0, 2893223168.0, 2891829760.0, 2905408256.0, 2887752192.0, 2906383872.0, 2905230592.0, 2891738112.0, 2880902912.0, 2878371584.0, 2880340480.0, 2878925312.0, 2903867648.0, 2886205952.0, 2904845312.0, 2903683840.0, 2890195968.0, 2879359232.0, 2876827392.0, 2878795520.0, 2877377280.0, 2905284096.0, 2887627776.0, 2906259712.0, 2905105664.0, 2891613952.0, 2880778496.0, 2878247168.0, 2880216320.0, 2878800128.0, 2927677440.0, 2910091008.0, 2928620800.0, 2927571712.0, 2914026496.0, 2903224832.0, 2900682752.0, 2902671104.0, 2901293568.0, 2927677440.0, 2910091008.0, 2928620800.0, 2927571712.0, 2914026496.0, 2903224832.0, 2900682752.0, 2902671104.0, 2901293568.0, 2927317504.0, 2909729024.0, 2928261888.0, 2927209984.0, 2913665792.0, 2902864896.0, 2900322048.0, 2902308864.0, 2900932096.0, 2917021184.0, 2899400192.0, 2917980160.0, 2916880384.0, 2903361536.0, 2892543744.0, 2890005504.0, 2891984896.0, 2890589440.0, 2915705600.0, 2898081536.0, 2916666112.0, 2915560448.0, 2902043648.0, 2891224576.0, 2888687616.0, 2890665728.0, 2889267456.0, 2912655104.0, 2895020800.0, 2913619456.0, 2912500480.0, 2898990592.0, 2888167680.0, 2885630976.0, 2887607808.0, 2886203392.0, 2914601984.0, 2896974336.0, 2915563264.0, 2914453760.0, 2900939520.0, 2890119424.0, 2887582464.0, 2889560064.0, 2888158720.0, 2922826496.0, 2905224192.0, 2923776768.0, 2922703872.0, 2909170944.0, 2898362880.0, 2895822592.0, 2897805824.0, 2896420864.0, 2933413888.0, 2915843840.0, 2934349824.0, 2933325568.0, 2919769088.0, 2908976640.0, 2906429440.0, 2908423936.0, 2907054592.0, 2892818944.0, 2875122176.0, 2893811200.0, 2892599040.0, 2879136512.0, 2868282624.0, 2865757440.0, 2867716096.0, 2866278400.0, 2874628352.0, 2856877312.0, 2875648768.0, 2874351104.0, 2860933120.0, 2850049792.0, 2847534336.0, 2849477888.0, 2848008704.0, 2848405248.0, 2830572032.0, 2849463552.0, 2848042240.0, 2834687488.0, 2823765504.0, 2821262336.0, 2823183360.0, 2821669120.0, 2858189568.0, 2840386560.0, 2859232768.0, 2857858304.0, 2844479488.0, 2833572608.0, 2831064064.0, 2832992768.0, 2831496448.0, 2863726080.0, 2845940224.0, 2864762112.0, 2863413504.0, 2850021888.0, 2839123200.0, 2836611072.0, 2838545408.0, 2837056768.0, 2848432128.0, 2830598144.0, 2849489408.0, 2848068864.0, 2834713856.0, 2823791872.0, 2821288448.0, 2823208192.0, 2821694208.0, 2854732032.0, 2836919296.0, 2855780608.0, 2854390016.0, 2841019648.0, 2830107648.0, 2827601408.0, 2829527296.0, 2828022528.0, 2830149120.0, 2812258304.0, 2831233536.0, 2829726976.0, 2816416256.0, 2805467136.0, 2802972672.0, 2804877056.0, 2803331072.0, 2832396800.0, 2814512640.0, 2833477120.0, 2831982080.0, 2818665984.0, 2807718656.0, 2805222912.0, 2807129600.0, 2805587456.0, 2818776832.0, 2800852480.0, 2819878656.0, 2818318336.0, 2805034752.0, 2794068224.0, 2791579648.0, 2793474304.0, 2791907840.0, 2831933696.0, 2814049024.0, 2833015040.0, 2831516672.0, 2818202368.0, 2807255040.0, 2804760576.0, 2806665984.0, 2805123072.0, 2819867648.0, 2801944320.0, 2820964864.0, 2819412992.0, 2806124544.0, 2795159552.0, 2792671488.0, 2794565888.0, 2793002496.0, 2871559168.0, 2853796096.0, 2872582656.0, 2871269888.0, 2857860352.0, 2846972928.0, 2844458496.0, 2846398976.0, 2844924672.0, 2860272896.0, 2842475008.0, 2861312256.0, 2859948800.0, 2846564096.0, 2835660288.0, 2833150464.0, 2835081472.0, 2833588736.0, 2873504768.0, 2855747840.0, 2874525184.0, 2873222400.0, 2859807488.0, 2848924672.0, 2846406400.0, 2848349440.0, 2846878720.0, 2840742656.0, 2822884864.0, 2841810688.0, 2840355328.0, 2827019008.0, 2816085504.0, 2813585408.0, 2815498752.0, 2813971968.0, 2871881984.0, 2854122496.0, 2872906240.0, 2871596544.0, 2858184704.0, 2847297536.0, 2844783104.0, 2846723072.0, 2845249280.0, 2842693376.0, 2824840704.0, 2843757824.0, 2842311680.0, 2828969984.0, 2818037760.0, 2815537152.0, 2817453824.0, 2815929600.0, 2811806720.0, 2793858560.0, 2812916736.0, 2811325440.0, 2798057216.0, 2787079936.0, 2784595200.0, 2786483456.0, 2784905216.0, 2805619712.0, 2787652352.0, 2806738176.0, 2805118464.0, 2791865600.0, 2780877568.0, 2778396928.0, 2780280320.0, 2778690304.0, 2736897024.0, 2718716416.0, 2738114560.0, 2736174336.0, 2723086080.0, 2711993856.0, 2709545728.0, 2711370240.0, 2709660928.0, 2732360960.0, 2714166784.0, 2733586176.0, 2731623424.0, 2718547200.0, 2707448064.0, 2705003008.0, 2706822400.0, 2705105408.0, 2735185152.0, 2716999168.0, 2736406016.0, 2734455296.0, 2721372928.0, 2710279424.0, 2707831552.0, 2709654272.0, 2707943424.0, 2688384256.0, 2670052864.0, 2689673984.0, 2687504128.0, 2674533120.0, 2663367424.0, 2660945408.0, 2662727680.0, 2660933632.0, 2686752768.0, 2668415744.0, 2688044544.0, 2685867776.0, 2672900096.0, 2661732608.0, 2659310848.0, 2661089792.0, 2659294208.0, 2755690240.0, 2737566720.0, 2756880640.0, 2755026944.0, 2741893376.0, 2730831104.0, 2728372992.0, 2730214400.0, 2728538368.0, 2748868352.0, 2730725888.0, 2750068992.0, 2748184320.0, 2735066880.0, 2723993088.0, 2721539072.0, 2723375616.0, 2721688064.0, 2818521088.0, 2800592896.0, 2819620864.0, 2818061056.0, 2804777216.0, 2793810944.0, 2791322880.0, 2793217536.0, 2791649536.0, 2804000768.0, 2786029824.0, 2805122816.0, 2803495168.0, 2790245888.0, 2779256576.0, 2776775424.0, 2778657536.0, 2777065216.0, 2861550080.0, 2843758336.0, 2862589696.0, 2861230848.0, 2847843840.0, 2836941824.0, 2834431744.0, 2836363008.0, 2834872320.0, 2845987072.0, 2828145152.0, 2847047424.0, 2845615872.0, 2832266752.0, 2821341696.0, 2818839040.0, 2820757504.0, 2819238912.0, 2843698688.0, 2825849088.0, 2844761856.0, 2843320832.0, 2829976576.0, 2819047680.0, 2816546304.0, 2818461696.0, 2816940032.0, 2886825984.0, 2869111552.0, 2887827968.0, 2886586880.0, 2873139200.0, 2862276096.0, 2859753728.0, 2861707776.0, 2860259072.0, 2900501760.0, 2882832128.0, 2901484032.0, 2900308992.0, 2886828800.0, 2875985920.0, 2873456384.0, 2875420928.0, 2873997056.0, 2896130048.0, 2878444032.0, 2897118720.0, 2895922944.0, 2882452480.0, 2871603968.0, 2869076736.0, 2871037184.0, 2869606144.0, 2888303616.0, 2870595072.0, 2889303808.0, 2888071680.0, 2874620672.0, 2863758848.0, 2861235968.0, 2863190272.0, 2861745408.0, 2923827968.0, 2906228480.0, 2924776448.0, 2923709184.0, 2910173440.0, 2899365888.0, 2896825344.0, 2898810624.0, 2897426432.0, 2925433856.0, 2907839488.0, 2926380032.0, 2925319936.0, 2911780608.0, 2900976640.0, 2898434560.0, 2900421120.0, 2899039744.0, 2933185536.0, 2915614720.0, 2934120192.0, 2933097216.0, 2919538944.0, 2908747008.0, 2906200064.0, 2908194304.0, 2906826240.0, 2943978752.0, 2926442240.0, 2944899328.0, 2943925504.0, 2930341888.0, 2919565056.0, 2917015296.0, 2919017472.0, 2917667840.0, 2925014528.0, 2907419136.0, 2925961216.0, 2924899328.0, 2911361024.0, 2900555776.0, 2898014208.0, 2900000512.0, 2898617856.0, 2917424640.0, 2899804928.0, 2918381056.0, 2917285120.0, 2903763968.0, 2892947456.0, 2890409984.0, 2892390400.0, 2890994176.0, 2885942528.0, 2868225792.0, 2886946304.0, 2885702144.0, 2872257280.0, 2861392128.0, 2858868480.0, 2860823808.0, 2859373056.0, 2873211392.0, 2855455232.0, 2874233600.0, 2872929024.0, 2859514112.0, 2848630784.0, 2846115328.0, 2848056832.0, 2846584320.0, 2872346368.0, 2854587904.0, 2873370624.0, 2872061952.0, 2858647808.0, 2847763456.0, 2845248512.0, 2847189248.0, 2845716480.0, 2873336576.0, 2855579904.0, 2874359296.0, 2873053440.0, 2859638784.0, 2848754944.0, 2846239488.0, 2848180736.0, 2846711296.0, 2897220608.0, 2879538688.0, 2898208256.0, 2897016320.0, 2883544064.0, 2872696320.0, 2870168832.0, 2872131072.0, 2870701824.0, 2926550272.0, 2908959232.0, 2927495168.0, 2926440192.0, 2912898048.0, 2902095616.0, 2899553280.0, 2901540864.0, 2900161792.0, 2927622912.0, 2910035712.0, 2928565504.0, 2927516928.0, 2913972224.0, 2903171328.0, 2900627456.0, 2902616064.0, 2901239040.0, 2911108096.0, 2893469696.0, 2912075520.0, 2910948096.0, 2897443072.0, 2886616832.0, 2884081408.0, 2886056192.0, 2884649472.0, 2874752256.0, 2857002240.0, 2875771392.0, 2874474496.0, 2861056256.0, 2850174208.0, 2847656704.0, 2849601536.0, 2848132352.0, 2920071936.0, 2902462208.0, 2921025792.0, 2919941376.0, 2906415104.0, 2895602176.0, 2893063168.0, 2895044352.0, 2893655808.0, 2938866176.0, 2921314048.0, 2939792384.0, 2938796032.0, 2925224192.0, 2914440448.0, 2911892224.0, 2913891328.0, 2912531712.0, 2987709952.0, 2970309888.0, 2988566016.0, 2987797504.0, 2974110464.0, 2963400704.0, 2960827648.0, 2962868480.0, 2961592064.0, 3005532416.0, 2988186368.0, 3006362368.0, 3005677312.0, 2991946496.0, 2981265408.0, 2978683392.0, 2980738816.0, 2979495424.0, 3002126592.0, 2984770560.0, 3002961152.0, 3002260480.0, 2988537600.0, 2977851392.0, 2975270912.0, 2977323008.0, 2976073472.0, 2997677824.0, 2980307712.0, 2998519040.0, 2997796608.0, 2984084992.0, 2973390592.0, 2970814208.0, 2972862208.0, 2971605248.0, 3008219392.0, 2990882304.0, 3009046272.0, 3008374016.0, 2994636288.0, 2983958016.0, 2981374976.0, 2983432960.0, 2982194432.0, 3050043648.0, 3032835328.0, 3050809088.0, 3050331392.0, 3036494336.0, 3025881088.0, 3023277568.0, 3025370624.0, 3024203264.0, 3046649344.0, 3029431552.0, 3047420672.0, 3046928896.0, 3033097728.0, 3022478848.0, 3019877888.0, 3021968384.0, 3020795648.0, 3046234368.0, 3029016576.0, 3047006720.0, 3046512128.0, 3032684544.0, 3022064896.0, 3019463936.0, 3021552896.0, 3020378624.0, 3067364608.0, 3050211840.0, 3068105984.0, 3067709952.0, 3053832960.0, 3043244800.0, 3040632832.0, 3042740992.0, 3041603072.0, 3046865408.0, 3029649408.0, 3047636736.0, 3047144704.0, 3033314816.0, 3022696960.0, 3020094976.0, 3022186240.0, 3021012992.0, 3051360000.0, 3034158080.0, 3052124416.0, 3051654400.0, 3037814016.0, 3027203072.0, 3024598784.0, 3026692096.0, 3025528064.0, 3074215680.0, 3057085184.0, 3074947584.0, 3074582528.0, 3060689664.0, 3050112000.0, 3047497728.0, 3049610752.0, 3048484864.0, 3064507904.0, 3047346432.0, 3065253376.0, 3064844544.0, 3050972672.0, 3040380928.0, 3037771008.0, 3039876096.0, 3038733568.0, 3071121920.0, 3053981440.0, 3071858432.0, 3071480576.0, 3057592832.0, 3047010560.0, 3044398336.0, 3046508032.0, 3045377792.0, 3028685312.0, 3011411456.0, 3029481984.0, 3028905984.0, 3015119104.0, 3004472320.0, 3001879552.0, 3003954432.0, 3002751232.0, 3012954880.0, 2995632896.0, 3013774848.0, 3013125120.0, 2999375872.0, 2988705280.0, 2986120448.0, 2988182016.0, 2986951168.0, 3007089664.0, 2989750016.0, 3007918336.0, 3007240704.0, 2993506304.0, 2982826240.0, 2980244480.0, 2982300928.0, 2981059840.0, 3001482752.0, 2984125696.0, 3002318080.0, 3001614848.0, 2987894528.0, 2977205248.0, 2974625536.0, 2976678144.0, 2975427584.0, 3004216320.0, 2986866688.0, 3005048832.0, 3004358144.0, 2990630144.0, 2979946240.0, 2977365248.0, 2979419392.0, 2978172416.0, 3008322560.0, 2990986752.0, 3009149184.0, 3008476928.0, 2994740224.0, 2984062208.0, 2981478400.0, 2983536384.0, 2982298112.0, 3009848064.0, 2992517120.0, 3010674176.0, 3010008064.0, 2996267264.0, 2985592576.0, 2983008768.0, 2985066752.0, 2983830528.0, 2977126656.0, 2959692544.0, 2977997568.0, 2977179904.0, 2963517184.0, 2952792064.0, 2950223872.0, 2952255232.0, 2950963200.0, 2952510208.0, 2935000064.0, 2953417216.0, 2952483584.0, 2938879744.0, 2928115968.0, 2925561856.0, 2927569408.0, 2926236672.0, 2935120384.0, 2917557248.0, 2936051712.0, 2935038720.0, 2921475584.0, 2910686464.0, 2908139008.0, 2910134784.0, 2908770048.0, 2975004416.0, 2957563648.0, 2975879424.0, 2975050240.0, 2961392128.0, 2950664448.0, 2948098048.0, 2950126592.0, 2948830464.0, 2955439616.0, 2937938944.0, 2956342016.0, 2955424256.0, 2941812480.0, 2931053568.0, 2928496896.0, 2930509312.0, 2929179136.0, 2960171776.0, 2942684928.0, 2961067008.0, 2960170240.0, 2946546688.0, 2935796480.0, 2933235968.0, 2935252224.0, 2933931264.0, 2972444672.0, 2954998016.0, 2973322240.0, 2972482816.0, 2958831104.0, 2948099840.0, 2945533184.0, 2947561472.0, 2946259968.0, 2942326016.0, 2924784640.0, 2943248384.0, 2942267392.0, 2928687360.0, 2917908736.0, 2915358976.0, 2917360640.0, 2916007680.0, 2944513792.0, 2926979072.0, 2945433088.0, 2944462848.0, 2930877184.0, 2920101376.0, 2917550848.0, 2919553792.0, 2918204928.0, 2922423808.0, 2904819968.0, 2923373824.0, 2922301184.0, 2908768768.0, 2897958656.0, 2895417856.0, 2897403136.0, 2896016896.0, 2938234112.0, 2920679936.0, 2939161088.0, 2938162944.0, 2924591616.0, 2913806336.0, 2911258624.0, 2913256448.0, 2911897088.0, 2960630528.0, 2943144704.0, 2961524736.0, 2960630016.0, 2947006464.0, 2936257280.0, 2933695744.0, 2935713024.0, 2934391552.0, 2941666560.0, 2924122368.0, 2942588928.0, 2941606656.0, 2928026880.0, 2917248256.0, 2914697472.0, 2916697088.0, 2915344384.0, 2852254208.0, 2834431488.0, 2853303040.0, 2851901952.0, 2838537472.0, 2827622656.0, 2825115648.0, 2827040256.0, 2825531904.0, 2901024000.0, 2883353600.0, 2902005504.0, 2900830976.0, 2887350016.0, 2876509696.0, 2873978880.0, 2875944192.0, 2874521344.0, 2962118144.0, 2944638208.0, 2963011072.0, 2962123520.0, 2948496384.0, 2937747712.0, 2935187712.0, 2937206528.0, 2935888384.0, 3100535040.0, 3083486976.0, 3101230080.0, 3100989440.0, 3087031296.0, 3076495360.0, 3073867008.0, 3076003328.0, 3074920960.0, 3131232512.0, 3114279424.0, 3131882496.0, 3131785472.0, 3117753856.0, 3107264768.0, 3104621824.0, 3106784000.0, 3105756160.0, 3071794176.0, 3054657024.0, 3072530432.0, 3072155136.0, 3058265344.0, 3047685376.0, 3045071616.0, 3047183104.0, 3046052352.0]}, {\"name\": \"Actual Price\", \"type\": \"scatter\", \"x\": [1245, 1246, 1247, 1248, 1249, 1250, 1251, 1252, 1253, 1254, 1255, 1256, 1257, 1258, 1259, 1260, 1261, 1262, 1263, 1264, 1265, 1266, 1267, 1268, 1269, 1270, 1271, 1272, 1273, 1274, 1275, 1276, 1277, 1278, 1279, 1280, 1281, 1282, 1283, 1284, 1285, 1286, 1287, 1288, 1289, 1290, 1291, 1292, 1293, 1294, 1295, 1296, 1297, 1298, 1299, 1300, 1301, 1302, 1303, 1304, 1305, 1306, 1307, 1308, 1309, 1310, 1311, 1312, 1313, 1314, 1315, 1316, 1317, 1318, 1319, 1320, 1321, 1322, 1323, 1324, 1325, 1326, 1327, 1328, 1329, 1330, 1331, 1332, 1333, 1334, 1335, 1336, 1337, 1338, 1339, 1340, 1341, 1342, 1343, 1344, 1345, 1346, 1347, 1348, 1349, 1350, 1351, 1352, 1353, 1354, 1355, 1356, 1357, 1358, 1359, 1360, 1361, 1362, 1363, 1364, 1365, 1366, 1367, 1368, 1369, 1370, 1371, 1372, 1373, 1374, 1375, 1376, 1377, 1378, 1379, 1380, 1381, 1382, 1383, 1384, 1385, 1386, 1387, 1388, 1389, 1390, 1391, 1392, 1393, 1394, 1395, 1396, 1397, 1398, 1399, 1400, 1401, 1402, 1403, 1404, 1405, 1406, 1407, 1408, 1409, 1410, 1411, 1412, 1413, 1414, 1415, 1416, 1417, 1418, 1419, 1420, 1421, 1422, 1423, 1424, 1425, 1426, 1427, 1428, 1429, 1430, 1431, 1432, 1433, 1434, 1435, 1436, 1437, 1438, 1439, 1440, 1441, 1442, 1443, 1444, 1445, 1446, 1447, 1448, 1449, 1450, 1451, 1452, 1453, 1454, 1455, 1456, 1457, 1458, 1459, 1460, 1461, 1462, 1463, 1464, 1465, 1466, 1467, 1468, 1469, 1470, 1471, 1472, 1473, 1474, 1475, 1476, 1477, 1478, 1479, 1480, 1481, 1482, 1483, 1484, 1485, 1486, 1487, 1488, 1489, 1490, 1491, 1492, 1493, 1494, 1495, 1496, 1497, 1498, 1499, 1500, 1501, 1502, 1503, 1504, 1505, 1506, 1507, 1508, 1509, 1510, 1511, 1512, 1513, 1514, 1515, 1516, 1517, 1518, 1519, 1520, 1521, 1522, 1523, 1524, 1525, 1526, 1527, 1528, 1529, 1530, 1531, 1532, 1533, 1534, 1535, 1536, 1537, 1538, 1539, 1540, 1541, 1542, 1543, 1544, 1545, 1546, 1547, 1548, 1549, 1550, 1551, 1552, 1553, 1554, 1555], \"y\": [8332950016.0, 7013060096.0, 7069289984.0, 6851590144.0, 7219990016.0, 7241560064.0, 6683680256.0, 6721330176.0, 7537079808.0, 7539890176.0, 7136600064.0, 6918729728.0, 7738579968.0, 7771210240.0, 7783430144.0, 7620579840.0, 8077340160.0, 8193290240.0, 7449939968.0, 8065550336.0, 8326419968.0, 8461319680.0, 8431680000.0, 8307340288.0, 8651929600.0, 9683189760.0, 10079899648.0, 10254100480.0, 10174000128.0, 10174100480.0, 10279199744.0, 10222300160.0, 10092900352.0, 10182899712.0, 9981849600.0, 9535949824.0, 10894399488.0, 10510399488.0, 9799919616.0, 10118400000.0, 10398000128.0, 10661399552.0, 10687699968.0, 10704799744.0, 10311499776.0, 10018199552.0, 10241200128.0, 10553799680.0, 10216699904.0, 10336499712.0, 10541500416.0, 11264799744.0, 10619899904.0, 10363299840.0, 10295100416.0, 9734800384.0, 11571399680.0, 11410400256.0, 10465699840.0, 10035600384.0, 9786680320.0, 9428179968.0, 9203030016.0, 9268240384.0, 9036999680.0, 8872599552.0, 8990850048.0, 9295569920.0, 8326270464.0, 8108930048.0, 8179729920.0, 7455669760.0, 7315939840.0, 7533740544.0, 8433869824.0, 6302969344.0, 8232039936.0, 8570390016.0, 10676599808.0, 10611600384.0, 10904899584.0, 10599700480.0, 10690599936.0, 11973699584.0, 10798199808.0, 9602480128.0, 8431860224.0, 10096600064.0, 12593899520.0, 13922299904.0, 13009999872.0, 12628300800.0, 11478299648.0, 13614301184.0, 13614699520.0, 12557100032.0, 12087001088.0, 11124899840.0, 9699359744.0, 9302269952.0, 9570990080.0, 9279850496.0, 8703970304.0, 7142029312.0, 6943300608.0, 8559549952.0, 5961500160.0, 5291729920.0, 5005530112.0, 5029340160.0, 4871600128.0, 4325400064.0, 4109060096.0, 3896130048.0, 4174929664.0, 4051120384.0, 3562789888.0, 3129189888.0, 2926099968.0, 2738980096.0, 2564069632.0, 2459520000.0, 2456329728.0, 2432469760.0, 2382869760.0, 2436239616.0, 2365839616.0, 2337100032.0, 2102729856.0, 2231069952.0, 2351780096.0, 2548229888.0, 2298160128.0, 2169750016.0, 2075579904.0, 2037439872.0, 1849629952.0, 1735750016.0, 1688199936.0, 1725840000.0, 1667100032.0, 1648470016.0, 1599429888.0, 1547970048.0, 1545600128.0, 1544019840.0, 1486509952.0, 1496499968.0, 1527760000.0, 1514540032.0, 1517020032.0, 1454899968.0, 1348700032.0, 1555469952.0, 1562270080.0, 1614349952.0, 1587289984.0, 1573400064.0, 1516019968.0, 1506919936.0, 1496509952.0, 1480210048.0, 1513939968.0, 1500259968.0, 1488870016.0, 1520470016.0, 1539430016.0, 1542870016.0, 1540880000.0, 1531819904.0, 1514140032.0, 1579049984.0, 1552880000.0, 1583960064.0, 1470450048.0, 1485959936.0, 1422179968.0, 1448179968.0, 1386610048.0, 1474669952.0, 1477250048.0, 1590550016.0, 1579179904.0, 1613600000.0, 1572230016.0, 1547639936.0, 1422119936.0, 1424679936.0, 1468960000.0, 1394009984.0, 1417200000.0, 1387640064.0, 1374419968.0, 1414290048.0, 1428700032.0, 1403890048.0, 1377730048.0, 1312160000.0, 1304320000.0, 1260349952.0, 1271469952.0, 1300659968.0, 1265449984.0, 1235340032.0, 1211789952.0, 1188150016.0, 1185309952.0, 1187920000.0, 1229100032.0, 1229100032.0, 1228440064.0, 1209520000.0, 1207100032.0, 1201490048.0, 1205069952.0, 1220189952.0, 1239629952.0, 1164940032.0, 1131340032.0, 1082749952.0, 1100899968.0, 1111160064.0, 1082800000.0, 1094489984.0, 1048819968.0, 1053000000.0, 1027640000.0, 1052140032.0, 1029670080.0, 1125660032.0, 1104760064.0, 1129260032.0, 1068520000.0, 1126259968.0, 1072140032.0, 1014640064.0, 1003089984.0, 874137984.0, 865585024.0, 870912000.0, 782352000.0, 779254976.0, 909526016.0, 896692928.0, 1027160000.0, 1000070016.0, 1107129984.0, 1078259968.0, 1074009984.0, 1153880064.0, 1179110016.0, 1171049984.0, 1156610048.0, 1222029952.0, 1224979968.0, 1239209984.0, 1259000064.0, 1224210048.0, 1210259968.0, 1152249984.0, 1128720000.0, 1127120000.0, 1128950016.0, 1173059968.0, 1227030016.0, 1228999936.0, 1198640000.0, 1131570048.0, 1215129984.0, 1249629952.0, 1338880000.0, 1371299968.0, 1365110016.0, 1357020032.0, 1376179968.0, 1451929984.0, 1445799936.0, 1445049984.0, 1483180032.0, 1446189952.0, 1454310016.0, 1495520000.0, 1478029952.0, 1489949824.0, 1413299968.0, 1384780032.0, 1374130048.0, 1363939968.0, 1368909952.0, 1376370048.0, 1379139968.0, 1319590016.0, 1274620032.0, 1242759936.0, 1315719936.0, 1279980032.0, 1288630016.0, 1311049984.0, 1255970048.0, 1259980032.0, 1219449984.0, 1248470016.0, 1289469952.0, 1254759936.0, 1089890048.0, 1180070016.0, 1292189952.0, 1542819968.0, 1597780096.0, 1491160064.0, 1500519936.0]}],\n",
              "                        {\"template\": {\"data\": {\"bar\": [{\"error_x\": {\"color\": \"#2a3f5f\"}, \"error_y\": {\"color\": \"#2a3f5f\"}, \"marker\": {\"line\": {\"color\": \"#E5ECF6\", \"width\": 0.5}}, \"type\": \"bar\"}], \"barpolar\": [{\"marker\": {\"line\": {\"color\": \"#E5ECF6\", \"width\": 0.5}}, \"type\": \"barpolar\"}], \"carpet\": [{\"aaxis\": {\"endlinecolor\": \"#2a3f5f\", \"gridcolor\": \"white\", \"linecolor\": \"white\", \"minorgridcolor\": \"white\", \"startlinecolor\": \"#2a3f5f\"}, \"baxis\": {\"endlinecolor\": \"#2a3f5f\", \"gridcolor\": \"white\", \"linecolor\": \"white\", \"minorgridcolor\": \"white\", \"startlinecolor\": \"#2a3f5f\"}, \"type\": \"carpet\"}], \"choropleth\": [{\"colorbar\": {\"outlinewidth\": 0, \"ticks\": \"\"}, \"type\": \"choropleth\"}], \"contour\": [{\"colorbar\": {\"outlinewidth\": 0, \"ticks\": \"\"}, \"colorscale\": [[0.0, \"#0d0887\"], [0.1111111111111111, \"#46039f\"], [0.2222222222222222, \"#7201a8\"], [0.3333333333333333, \"#9c179e\"], [0.4444444444444444, \"#bd3786\"], [0.5555555555555556, \"#d8576b\"], [0.6666666666666666, \"#ed7953\"], [0.7777777777777778, \"#fb9f3a\"], [0.8888888888888888, \"#fdca26\"], [1.0, \"#f0f921\"]], \"type\": \"contour\"}], \"contourcarpet\": [{\"colorbar\": {\"outlinewidth\": 0, \"ticks\": \"\"}, \"type\": \"contourcarpet\"}], \"heatmap\": [{\"colorbar\": {\"outlinewidth\": 0, \"ticks\": \"\"}, \"colorscale\": [[0.0, \"#0d0887\"], [0.1111111111111111, \"#46039f\"], [0.2222222222222222, \"#7201a8\"], [0.3333333333333333, \"#9c179e\"], [0.4444444444444444, \"#bd3786\"], [0.5555555555555556, \"#d8576b\"], [0.6666666666666666, \"#ed7953\"], [0.7777777777777778, \"#fb9f3a\"], [0.8888888888888888, \"#fdca26\"], [1.0, \"#f0f921\"]], \"type\": \"heatmap\"}], \"heatmapgl\": [{\"colorbar\": {\"outlinewidth\": 0, \"ticks\": \"\"}, \"colorscale\": [[0.0, \"#0d0887\"], [0.1111111111111111, \"#46039f\"], [0.2222222222222222, \"#7201a8\"], [0.3333333333333333, \"#9c179e\"], [0.4444444444444444, \"#bd3786\"], [0.5555555555555556, \"#d8576b\"], [0.6666666666666666, \"#ed7953\"], [0.7777777777777778, \"#fb9f3a\"], [0.8888888888888888, \"#fdca26\"], [1.0, \"#f0f921\"]], \"type\": \"heatmapgl\"}], \"histogram\": [{\"marker\": {\"colorbar\": {\"outlinewidth\": 0, \"ticks\": \"\"}}, \"type\": \"histogram\"}], \"histogram2d\": [{\"colorbar\": {\"outlinewidth\": 0, \"ticks\": \"\"}, \"colorscale\": [[0.0, \"#0d0887\"], [0.1111111111111111, \"#46039f\"], [0.2222222222222222, \"#7201a8\"], [0.3333333333333333, \"#9c179e\"], [0.4444444444444444, \"#bd3786\"], [0.5555555555555556, \"#d8576b\"], [0.6666666666666666, \"#ed7953\"], [0.7777777777777778, \"#fb9f3a\"], [0.8888888888888888, \"#fdca26\"], [1.0, \"#f0f921\"]], \"type\": \"histogram2d\"}], \"histogram2dcontour\": [{\"colorbar\": {\"outlinewidth\": 0, \"ticks\": \"\"}, \"colorscale\": [[0.0, \"#0d0887\"], [0.1111111111111111, \"#46039f\"], [0.2222222222222222, \"#7201a8\"], [0.3333333333333333, \"#9c179e\"], [0.4444444444444444, \"#bd3786\"], [0.5555555555555556, \"#d8576b\"], [0.6666666666666666, \"#ed7953\"], [0.7777777777777778, \"#fb9f3a\"], [0.8888888888888888, \"#fdca26\"], [1.0, \"#f0f921\"]], \"type\": \"histogram2dcontour\"}], \"mesh3d\": [{\"colorbar\": {\"outlinewidth\": 0, \"ticks\": \"\"}, \"type\": \"mesh3d\"}], \"parcoords\": [{\"line\": {\"colorbar\": {\"outlinewidth\": 0, \"ticks\": \"\"}}, \"type\": \"parcoords\"}], \"pie\": [{\"automargin\": true, \"type\": \"pie\"}], \"scatter\": [{\"marker\": {\"colorbar\": {\"outlinewidth\": 0, \"ticks\": \"\"}}, \"type\": \"scatter\"}], \"scatter3d\": [{\"line\": {\"colorbar\": {\"outlinewidth\": 0, \"ticks\": \"\"}}, \"marker\": {\"colorbar\": {\"outlinewidth\": 0, \"ticks\": \"\"}}, \"type\": \"scatter3d\"}], \"scattercarpet\": [{\"marker\": {\"colorbar\": {\"outlinewidth\": 0, \"ticks\": \"\"}}, \"type\": \"scattercarpet\"}], \"scattergeo\": [{\"marker\": {\"colorbar\": {\"outlinewidth\": 0, \"ticks\": \"\"}}, \"type\": \"scattergeo\"}], \"scattergl\": [{\"marker\": {\"colorbar\": {\"outlinewidth\": 0, \"ticks\": \"\"}}, \"type\": \"scattergl\"}], \"scattermapbox\": [{\"marker\": {\"colorbar\": {\"outlinewidth\": 0, \"ticks\": \"\"}}, \"type\": \"scattermapbox\"}], \"scatterpolar\": [{\"marker\": {\"colorbar\": {\"outlinewidth\": 0, \"ticks\": \"\"}}, \"type\": \"scatterpolar\"}], \"scatterpolargl\": [{\"marker\": {\"colorbar\": {\"outlinewidth\": 0, \"ticks\": \"\"}}, \"type\": \"scatterpolargl\"}], \"scatterternary\": [{\"marker\": {\"colorbar\": {\"outlinewidth\": 0, \"ticks\": \"\"}}, \"type\": \"scatterternary\"}], \"surface\": [{\"colorbar\": {\"outlinewidth\": 0, \"ticks\": \"\"}, \"colorscale\": [[0.0, \"#0d0887\"], [0.1111111111111111, \"#46039f\"], [0.2222222222222222, \"#7201a8\"], [0.3333333333333333, \"#9c179e\"], [0.4444444444444444, \"#bd3786\"], [0.5555555555555556, \"#d8576b\"], [0.6666666666666666, \"#ed7953\"], [0.7777777777777778, \"#fb9f3a\"], [0.8888888888888888, \"#fdca26\"], [1.0, \"#f0f921\"]], \"type\": \"surface\"}], \"table\": [{\"cells\": {\"fill\": {\"color\": \"#EBF0F8\"}, \"line\": {\"color\": \"white\"}}, \"header\": {\"fill\": {\"color\": \"#C8D4E3\"}, \"line\": {\"color\": \"white\"}}, \"type\": \"table\"}]}, \"layout\": {\"annotationdefaults\": {\"arrowcolor\": \"#2a3f5f\", \"arrowhead\": 0, \"arrowwidth\": 1}, \"coloraxis\": {\"colorbar\": {\"outlinewidth\": 0, \"ticks\": \"\"}}, \"colorscale\": {\"diverging\": [[0, \"#8e0152\"], [0.1, \"#c51b7d\"], [0.2, \"#de77ae\"], [0.3, \"#f1b6da\"], [0.4, \"#fde0ef\"], [0.5, \"#f7f7f7\"], [0.6, \"#e6f5d0\"], [0.7, \"#b8e186\"], [0.8, \"#7fbc41\"], [0.9, \"#4d9221\"], [1, \"#276419\"]], \"sequential\": [[0.0, \"#0d0887\"], [0.1111111111111111, \"#46039f\"], [0.2222222222222222, \"#7201a8\"], [0.3333333333333333, \"#9c179e\"], [0.4444444444444444, \"#bd3786\"], [0.5555555555555556, \"#d8576b\"], [0.6666666666666666, \"#ed7953\"], [0.7777777777777778, \"#fb9f3a\"], [0.8888888888888888, \"#fdca26\"], [1.0, \"#f0f921\"]], \"sequentialminus\": [[0.0, \"#0d0887\"], [0.1111111111111111, \"#46039f\"], [0.2222222222222222, \"#7201a8\"], [0.3333333333333333, \"#9c179e\"], [0.4444444444444444, \"#bd3786\"], [0.5555555555555556, \"#d8576b\"], [0.6666666666666666, \"#ed7953\"], [0.7777777777777778, \"#fb9f3a\"], [0.8888888888888888, \"#fdca26\"], [1.0, \"#f0f921\"]]}, \"colorway\": [\"#636efa\", \"#EF553B\", \"#00cc96\", \"#ab63fa\", \"#FFA15A\", \"#19d3f3\", \"#FF6692\", \"#B6E880\", \"#FF97FF\", \"#FECB52\"], \"font\": {\"color\": \"#2a3f5f\"}, \"geo\": {\"bgcolor\": \"white\", \"lakecolor\": \"white\", \"landcolor\": \"#E5ECF6\", \"showlakes\": true, \"showland\": true, \"subunitcolor\": \"white\"}, \"hoverlabel\": {\"align\": \"left\"}, \"hovermode\": \"closest\", \"mapbox\": {\"style\": \"light\"}, \"paper_bgcolor\": \"white\", \"plot_bgcolor\": \"#E5ECF6\", \"polar\": {\"angularaxis\": {\"gridcolor\": \"white\", \"linecolor\": \"white\", \"ticks\": \"\"}, \"bgcolor\": \"#E5ECF6\", \"radialaxis\": {\"gridcolor\": \"white\", \"linecolor\": \"white\", \"ticks\": \"\"}}, \"scene\": {\"xaxis\": {\"backgroundcolor\": \"#E5ECF6\", \"gridcolor\": \"white\", \"gridwidth\": 2, \"linecolor\": \"white\", \"showbackground\": true, \"ticks\": \"\", \"zerolinecolor\": \"white\"}, \"yaxis\": {\"backgroundcolor\": \"#E5ECF6\", \"gridcolor\": \"white\", \"gridwidth\": 2, \"linecolor\": \"white\", \"showbackground\": true, \"ticks\": \"\", \"zerolinecolor\": \"white\"}, \"zaxis\": {\"backgroundcolor\": \"#E5ECF6\", \"gridcolor\": \"white\", \"gridwidth\": 2, \"linecolor\": \"white\", \"showbackground\": true, \"ticks\": \"\", \"zerolinecolor\": \"white\"}}, \"shapedefaults\": {\"line\": {\"color\": \"#2a3f5f\"}}, \"ternary\": {\"aaxis\": {\"gridcolor\": \"white\", \"linecolor\": \"white\", \"ticks\": \"\"}, \"baxis\": {\"gridcolor\": \"white\", \"linecolor\": \"white\", \"ticks\": \"\"}, \"bgcolor\": \"#E5ECF6\", \"caxis\": {\"gridcolor\": \"white\", \"linecolor\": \"white\", \"ticks\": \"\"}}, \"title\": {\"x\": 0.05}, \"xaxis\": {\"automargin\": true, \"gridcolor\": \"white\", \"linecolor\": \"white\", \"ticks\": \"\", \"title\": {\"standoff\": 15}, \"zerolinecolor\": \"white\", \"zerolinewidth\": 2}, \"yaxis\": {\"automargin\": true, \"gridcolor\": \"white\", \"linecolor\": \"white\", \"ticks\": \"\", \"title\": {\"standoff\": 15}, \"zerolinecolor\": \"white\", \"zerolinewidth\": 2}}}},\n",
              "                        {\"responsive\": true}\n",
              "                    ).then(function(){\n",
              "                            \n",
              "var gd = document.getElementById('3f24b631-d4ac-4fde-8fd2-ad6fe7a8db67');\n",
              "var x = new MutationObserver(function (mutations, observer) {{\n",
              "        var display = window.getComputedStyle(gd).display;\n",
              "        if (!display || display === 'none') {{\n",
              "            console.log([gd, 'removed!']);\n",
              "            Plotly.purge(gd);\n",
              "            observer.disconnect();\n",
              "        }}\n",
              "}});\n",
              "\n",
              "// Listen for the removal of the full notebook cells\n",
              "var notebookContainer = gd.closest('#notebook-container');\n",
              "if (notebookContainer) {{\n",
              "    x.observe(notebookContainer, {childList: true});\n",
              "}}\n",
              "\n",
              "// Listen for the clearing of the current output cell\n",
              "var outputEl = gd.closest('.output');\n",
              "if (outputEl) {{\n",
              "    x.observe(outputEl, {childList: true});\n",
              "}}\n",
              "\n",
              "                        })\n",
              "                };\n",
              "                \n",
              "            </script>\n",
              "        </div>\n",
              "</body>\n",
              "</html>"
            ]
          },
          "metadata": {
            "tags": []
          }
        }
      ]
    },
    {
      "cell_type": "code",
      "metadata": {
        "id": "pVQqq6kjbsqA"
      },
      "source": [
        ""
      ],
      "execution_count": 355,
      "outputs": []
    }
  ]
}